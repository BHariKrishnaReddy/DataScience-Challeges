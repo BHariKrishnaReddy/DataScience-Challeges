{
  "nbformat": 4,
  "nbformat_minor": 0,
  "metadata": {
    "colab": {
      "name": "Regression_model.ipynb",
      "provenance": [],
      "collapsed_sections": [
        "n3pjucHTc4Iz",
        "e25aUHbjzzJB",
        "bL1EpvrSu-sa",
        "4Cl9-joUzXl-"
      ]
    },
    "kernelspec": {
      "display_name": "Python 3",
      "name": "python3"
    },
    "language_info": {
      "name": "python"
    }
  },
  "cells": [
    {
      "cell_type": "markdown",
      "metadata": {
        "id": "1NZxr9hVNQPi"
      },
      "source": [
        "# Course 3 Project"
      ]
    },
    {
      "cell_type": "markdown",
      "metadata": {
        "id": "z9HX533FdAAs"
      },
      "source": [
        "Loading libraries"
      ]
    },
    {
      "cell_type": "code",
      "metadata": {
        "id": "8NjxKlVh-gaU"
      },
      "source": [
        "import pandas as pd\n",
        "import numpy as np\n",
        "\n",
        "import matplotlib.pyplot as plt\n",
        "import seaborn as sns\n",
        "\n",
        "from sklearn.preprocessing import MinMaxScaler, LabelEncoder\n",
        "from geopy.distance import great_circle\n",
        "\n",
        "from sklearn.model_selection import train_test_split\n",
        "\n",
        "from sklearn.neighbors import KNeighborsRegressor\n",
        "from sklearn.linear_model import LinearRegression\n",
        "from sklearn.tree import DecisionTreeRegressor\n",
        "\n",
        "from sklearn.metrics import mean_squared_error\n",
        "from math import sqrt\n",
        "\n",
        "import warnings\n",
        "warnings.filterwarnings('ignore')"
      ],
      "execution_count": null,
      "outputs": []
    },
    {
      "cell_type": "markdown",
      "metadata": {
        "id": "8c1jUNaRAPA_"
      },
      "source": [
        "Loading data"
      ]
    },
    {
      "cell_type": "code",
      "metadata": {
        "colab": {
          "base_uri": "https://localhost:8080/"
        },
        "id": "NkxthIst2Cc4",
        "outputId": "b37889d4-3364-4842-ab8d-70280b86049c"
      },
      "source": [
        "# extracting dataset from the zip file\n",
        "\n",
        "!unzip \"/content/nyc_taxi_trip_duration Dataset.zip\" -d \"/content/\""
      ],
      "execution_count": null,
      "outputs": [
        {
          "output_type": "stream",
          "name": "stdout",
          "text": [
            "Archive:  /content/nyc_taxi_trip_duration Dataset.zip\n",
            "  inflating: /content/nyc_taxi_trip_duration Dataset.csv  \n"
          ]
        }
      ]
    },
    {
      "cell_type": "code",
      "metadata": {
        "id": "kkaCFsBIAIQw"
      },
      "source": [
        "# loading dataset\n",
        "\n",
        "df = pd.read_csv('/content/nyc_taxi_trip_duration Dataset.csv')"
      ],
      "execution_count": null,
      "outputs": []
    },
    {
      "cell_type": "markdown",
      "metadata": {
        "id": "n3pjucHTc4Iz"
      },
      "source": [
        "## Exploratory Data Analysis and Feature Engineering"
      ]
    },
    {
      "cell_type": "markdown",
      "metadata": {
        "id": "1-jLcDB1k-zW"
      },
      "source": [
        "Dataset description:\n",
        "\n",
        "1. **id** - a unique identifier for each trip\n",
        "\n",
        "2. **vendor_id** - a code indicating the provider associated with the trip record\n",
        "\n",
        "3. **pickup_datetime** - date and time when the meter was engaged\n",
        "\n",
        "4. **dropoff_datetime** - date and time when the meter was disengaged\n",
        "\n",
        "5. **passenger_count** - the number of passengers in the vehicle (driver entered value)\n",
        "\n",
        "6. **pickup_longitude** - the longitude where the meter was engaged\n",
        "\n",
        "7. **pickup_latitude** - the latitude where the meter was engaged\n",
        "\n",
        "8. **dropoff_longitude** - the longitude where the meter was disengaged\n",
        "\n",
        "9. **dropoff_latitude** - the latitude where the meter was disengaged\n",
        "\n",
        "10. **store_and_fwd_flag** - This flag indicates whether the trip record was held in vehicle memory before sending to the vendor because the vehicle did not have a connection to the server (Y=store and forward; N=not a store and forward trip)\n",
        "\n",
        "11. **trip_duration** - (target) duration of the trip in seconds"
      ]
    },
    {
      "cell_type": "markdown",
      "metadata": {
        "id": "YSolDMladrL1"
      },
      "source": [
        "Understanding the contents of the dataset"
      ]
    },
    {
      "cell_type": "code",
      "metadata": {
        "colab": {
          "base_uri": "https://localhost:8080/"
        },
        "id": "Snli8W0Q5ZBJ",
        "outputId": "ed1ed68d-0df1-4cf4-e37a-78207f2f3995"
      },
      "source": [
        "print(\"No. of rows: \", df.shape[0])\n",
        "print(\"No. of columns: \", df.shape[1])"
      ],
      "execution_count": null,
      "outputs": [
        {
          "output_type": "stream",
          "name": "stdout",
          "text": [
            "No. of rows:  729322\n",
            "No. of columns:  11\n"
          ]
        }
      ]
    },
    {
      "cell_type": "code",
      "metadata": {
        "colab": {
          "base_uri": "https://localhost:8080/",
          "height": 309
        },
        "id": "Bdi1WCrge7eW",
        "outputId": "2d892f33-31ed-4d65-fc7c-952a40994758"
      },
      "source": [
        "# printing the first five rows\n",
        "df.head()"
      ],
      "execution_count": null,
      "outputs": [
        {
          "output_type": "execute_result",
          "data": {
            "text/html": [
              "<div>\n",
              "<style scoped>\n",
              "    .dataframe tbody tr th:only-of-type {\n",
              "        vertical-align: middle;\n",
              "    }\n",
              "\n",
              "    .dataframe tbody tr th {\n",
              "        vertical-align: top;\n",
              "    }\n",
              "\n",
              "    .dataframe thead th {\n",
              "        text-align: right;\n",
              "    }\n",
              "</style>\n",
              "<table border=\"1\" class=\"dataframe\">\n",
              "  <thead>\n",
              "    <tr style=\"text-align: right;\">\n",
              "      <th></th>\n",
              "      <th>id</th>\n",
              "      <th>vendor_id</th>\n",
              "      <th>pickup_datetime</th>\n",
              "      <th>dropoff_datetime</th>\n",
              "      <th>passenger_count</th>\n",
              "      <th>pickup_longitude</th>\n",
              "      <th>pickup_latitude</th>\n",
              "      <th>dropoff_longitude</th>\n",
              "      <th>dropoff_latitude</th>\n",
              "      <th>store_and_fwd_flag</th>\n",
              "      <th>trip_duration</th>\n",
              "    </tr>\n",
              "  </thead>\n",
              "  <tbody>\n",
              "    <tr>\n",
              "      <th>0</th>\n",
              "      <td>id1080784</td>\n",
              "      <td>2</td>\n",
              "      <td>2016-02-29 16:40:21</td>\n",
              "      <td>2016-02-29 16:47:01</td>\n",
              "      <td>1</td>\n",
              "      <td>-73.953918</td>\n",
              "      <td>40.778873</td>\n",
              "      <td>-73.963875</td>\n",
              "      <td>40.771164</td>\n",
              "      <td>N</td>\n",
              "      <td>400</td>\n",
              "    </tr>\n",
              "    <tr>\n",
              "      <th>1</th>\n",
              "      <td>id0889885</td>\n",
              "      <td>1</td>\n",
              "      <td>2016-03-11 23:35:37</td>\n",
              "      <td>2016-03-11 23:53:57</td>\n",
              "      <td>2</td>\n",
              "      <td>-73.988312</td>\n",
              "      <td>40.731743</td>\n",
              "      <td>-73.994751</td>\n",
              "      <td>40.694931</td>\n",
              "      <td>N</td>\n",
              "      <td>1100</td>\n",
              "    </tr>\n",
              "    <tr>\n",
              "      <th>2</th>\n",
              "      <td>id0857912</td>\n",
              "      <td>2</td>\n",
              "      <td>2016-02-21 17:59:33</td>\n",
              "      <td>2016-02-21 18:26:48</td>\n",
              "      <td>2</td>\n",
              "      <td>-73.997314</td>\n",
              "      <td>40.721458</td>\n",
              "      <td>-73.948029</td>\n",
              "      <td>40.774918</td>\n",
              "      <td>N</td>\n",
              "      <td>1635</td>\n",
              "    </tr>\n",
              "    <tr>\n",
              "      <th>3</th>\n",
              "      <td>id3744273</td>\n",
              "      <td>2</td>\n",
              "      <td>2016-01-05 09:44:31</td>\n",
              "      <td>2016-01-05 10:03:32</td>\n",
              "      <td>6</td>\n",
              "      <td>-73.961670</td>\n",
              "      <td>40.759720</td>\n",
              "      <td>-73.956779</td>\n",
              "      <td>40.780628</td>\n",
              "      <td>N</td>\n",
              "      <td>1141</td>\n",
              "    </tr>\n",
              "    <tr>\n",
              "      <th>4</th>\n",
              "      <td>id0232939</td>\n",
              "      <td>1</td>\n",
              "      <td>2016-02-17 06:42:23</td>\n",
              "      <td>2016-02-17 06:56:31</td>\n",
              "      <td>1</td>\n",
              "      <td>-74.017120</td>\n",
              "      <td>40.708469</td>\n",
              "      <td>-73.988182</td>\n",
              "      <td>40.740631</td>\n",
              "      <td>N</td>\n",
              "      <td>848</td>\n",
              "    </tr>\n",
              "  </tbody>\n",
              "</table>\n",
              "</div>"
            ],
            "text/plain": [
              "          id  vendor_id  ... store_and_fwd_flag trip_duration\n",
              "0  id1080784          2  ...                  N           400\n",
              "1  id0889885          1  ...                  N          1100\n",
              "2  id0857912          2  ...                  N          1635\n",
              "3  id3744273          2  ...                  N          1141\n",
              "4  id0232939          1  ...                  N           848\n",
              "\n",
              "[5 rows x 11 columns]"
            ]
          },
          "metadata": {},
          "execution_count": 6
        }
      ]
    },
    {
      "cell_type": "code",
      "metadata": {
        "colab": {
          "base_uri": "https://localhost:8080/",
          "height": 309
        },
        "id": "e5_IslkefF8P",
        "outputId": "46c69879-c1a3-409d-f7af-7fc7c67d0aa0"
      },
      "source": [
        "# printing the last five rows\n",
        "df.tail()"
      ],
      "execution_count": null,
      "outputs": [
        {
          "output_type": "execute_result",
          "data": {
            "text/html": [
              "<div>\n",
              "<style scoped>\n",
              "    .dataframe tbody tr th:only-of-type {\n",
              "        vertical-align: middle;\n",
              "    }\n",
              "\n",
              "    .dataframe tbody tr th {\n",
              "        vertical-align: top;\n",
              "    }\n",
              "\n",
              "    .dataframe thead th {\n",
              "        text-align: right;\n",
              "    }\n",
              "</style>\n",
              "<table border=\"1\" class=\"dataframe\">\n",
              "  <thead>\n",
              "    <tr style=\"text-align: right;\">\n",
              "      <th></th>\n",
              "      <th>id</th>\n",
              "      <th>vendor_id</th>\n",
              "      <th>pickup_datetime</th>\n",
              "      <th>dropoff_datetime</th>\n",
              "      <th>passenger_count</th>\n",
              "      <th>pickup_longitude</th>\n",
              "      <th>pickup_latitude</th>\n",
              "      <th>dropoff_longitude</th>\n",
              "      <th>dropoff_latitude</th>\n",
              "      <th>store_and_fwd_flag</th>\n",
              "      <th>trip_duration</th>\n",
              "    </tr>\n",
              "  </thead>\n",
              "  <tbody>\n",
              "    <tr>\n",
              "      <th>729317</th>\n",
              "      <td>id3905982</td>\n",
              "      <td>2</td>\n",
              "      <td>2016-05-21 13:29:38</td>\n",
              "      <td>2016-05-21 13:34:34</td>\n",
              "      <td>2</td>\n",
              "      <td>-73.965919</td>\n",
              "      <td>40.789780</td>\n",
              "      <td>-73.952637</td>\n",
              "      <td>40.789181</td>\n",
              "      <td>N</td>\n",
              "      <td>296</td>\n",
              "    </tr>\n",
              "    <tr>\n",
              "      <th>729318</th>\n",
              "      <td>id0102861</td>\n",
              "      <td>1</td>\n",
              "      <td>2016-02-22 00:43:11</td>\n",
              "      <td>2016-02-22 00:48:26</td>\n",
              "      <td>1</td>\n",
              "      <td>-73.996666</td>\n",
              "      <td>40.737434</td>\n",
              "      <td>-74.001320</td>\n",
              "      <td>40.731911</td>\n",
              "      <td>N</td>\n",
              "      <td>315</td>\n",
              "    </tr>\n",
              "    <tr>\n",
              "      <th>729319</th>\n",
              "      <td>id0439699</td>\n",
              "      <td>1</td>\n",
              "      <td>2016-04-15 18:56:48</td>\n",
              "      <td>2016-04-15 19:08:01</td>\n",
              "      <td>1</td>\n",
              "      <td>-73.997849</td>\n",
              "      <td>40.761696</td>\n",
              "      <td>-74.001488</td>\n",
              "      <td>40.741207</td>\n",
              "      <td>N</td>\n",
              "      <td>673</td>\n",
              "    </tr>\n",
              "    <tr>\n",
              "      <th>729320</th>\n",
              "      <td>id2078912</td>\n",
              "      <td>1</td>\n",
              "      <td>2016-06-19 09:50:47</td>\n",
              "      <td>2016-06-19 09:58:14</td>\n",
              "      <td>1</td>\n",
              "      <td>-74.006706</td>\n",
              "      <td>40.708244</td>\n",
              "      <td>-74.013550</td>\n",
              "      <td>40.713814</td>\n",
              "      <td>N</td>\n",
              "      <td>447</td>\n",
              "    </tr>\n",
              "    <tr>\n",
              "      <th>729321</th>\n",
              "      <td>id1053441</td>\n",
              "      <td>2</td>\n",
              "      <td>2016-01-01 17:24:16</td>\n",
              "      <td>2016-01-01 17:44:40</td>\n",
              "      <td>4</td>\n",
              "      <td>-74.003342</td>\n",
              "      <td>40.743839</td>\n",
              "      <td>-73.945847</td>\n",
              "      <td>40.712841</td>\n",
              "      <td>N</td>\n",
              "      <td>1224</td>\n",
              "    </tr>\n",
              "  </tbody>\n",
              "</table>\n",
              "</div>"
            ],
            "text/plain": [
              "               id  vendor_id  ... store_and_fwd_flag trip_duration\n",
              "729317  id3905982          2  ...                  N           296\n",
              "729318  id0102861          1  ...                  N           315\n",
              "729319  id0439699          1  ...                  N           673\n",
              "729320  id2078912          1  ...                  N           447\n",
              "729321  id1053441          2  ...                  N          1224\n",
              "\n",
              "[5 rows x 11 columns]"
            ]
          },
          "metadata": {},
          "execution_count": 7
        }
      ]
    },
    {
      "cell_type": "markdown",
      "metadata": {
        "id": "fg1knw05fXDJ"
      },
      "source": [
        "Missing values"
      ]
    },
    {
      "cell_type": "code",
      "metadata": {
        "colab": {
          "base_uri": "https://localhost:8080/"
        },
        "id": "n6j9I24KfL20",
        "outputId": "ec02621c-8701-45ac-a1d5-a4c2ccbe6baf"
      },
      "source": [
        "# checking for the missing values\n",
        "\n",
        "print(\"No. of missing values in each columns: \\n\")\n",
        "print(df.isnull().sum())"
      ],
      "execution_count": null,
      "outputs": [
        {
          "output_type": "stream",
          "name": "stdout",
          "text": [
            "No. of missing values in each columns: \n",
            "\n",
            "id                    0\n",
            "vendor_id             0\n",
            "pickup_datetime       0\n",
            "dropoff_datetime      0\n",
            "passenger_count       0\n",
            "pickup_longitude      0\n",
            "pickup_latitude       0\n",
            "dropoff_longitude     0\n",
            "dropoff_latitude      0\n",
            "store_and_fwd_flag    0\n",
            "trip_duration         0\n",
            "dtype: int64\n"
          ]
        }
      ]
    },
    {
      "cell_type": "markdown",
      "metadata": {
        "id": "Hy208_6VfrU9"
      },
      "source": [
        "There are no missing values present in any of the columns"
      ]
    },
    {
      "cell_type": "markdown",
      "metadata": {
        "id": "VfIPCVEZkEw2"
      },
      "source": [
        "Duplicated records"
      ]
    },
    {
      "cell_type": "code",
      "metadata": {
        "colab": {
          "base_uri": "https://localhost:8080/"
        },
        "id": "F2DUrFyWfmrW",
        "outputId": "f9e4cf00-8d6d-4bd7-b6c7-9f966fc32032"
      },
      "source": [
        "# checking for the duplicate records\n",
        "print(\"No. of duplicate records: \", df.duplicated().sum())"
      ],
      "execution_count": null,
      "outputs": [
        {
          "output_type": "stream",
          "name": "stdout",
          "text": [
            "No. of duplicate records:  0\n"
          ]
        }
      ]
    },
    {
      "cell_type": "markdown",
      "metadata": {
        "id": "OlR_BtSPkZ9H"
      },
      "source": [
        "There are no duplicate records present in the dataset"
      ]
    },
    {
      "cell_type": "markdown",
      "metadata": {
        "id": "GZwosceBPG2K"
      },
      "source": [
        "Checking unique values of all columns"
      ]
    },
    {
      "cell_type": "code",
      "metadata": {
        "colab": {
          "base_uri": "https://localhost:8080/"
        },
        "id": "kR-i8wPRPCpW",
        "outputId": "716c9458-a07f-4567-a45d-2bc90c2bba10"
      },
      "source": [
        "df.nunique()"
      ],
      "execution_count": null,
      "outputs": [
        {
          "output_type": "execute_result",
          "data": {
            "text/plain": [
              "id                    729322\n",
              "vendor_id                  2\n",
              "pickup_datetime       709359\n",
              "dropoff_datetime      709308\n",
              "passenger_count            9\n",
              "pickup_longitude       19729\n",
              "pickup_latitude        39776\n",
              "dropoff_longitude      27892\n",
              "dropoff_latitude       53579\n",
              "store_and_fwd_flag         2\n",
              "trip_duration           6296\n",
              "dtype: int64"
            ]
          },
          "metadata": {},
          "execution_count": 10
        }
      ]
    },
    {
      "cell_type": "markdown",
      "metadata": {
        "id": "iKGF_bhoPMDm"
      },
      "source": [
        "The id data contains 729322 unique values, which is the exact number of rows the dataset has."
      ]
    },
    {
      "cell_type": "markdown",
      "metadata": {
        "id": "2iN36MBIojYy"
      },
      "source": [
        "Datatypes of the features"
      ]
    },
    {
      "cell_type": "code",
      "metadata": {
        "colab": {
          "base_uri": "https://localhost:8080/"
        },
        "id": "sWMajhEiomON",
        "outputId": "fd46f4ad-c09a-4bbc-a8e3-73f1bdc947ff"
      },
      "source": [
        "# checking the datatype of all features in the dataset\n",
        "\n",
        "df.dtypes"
      ],
      "execution_count": null,
      "outputs": [
        {
          "output_type": "execute_result",
          "data": {
            "text/plain": [
              "id                     object\n",
              "vendor_id               int64\n",
              "pickup_datetime        object\n",
              "dropoff_datetime       object\n",
              "passenger_count         int64\n",
              "pickup_longitude      float64\n",
              "pickup_latitude       float64\n",
              "dropoff_longitude     float64\n",
              "dropoff_latitude      float64\n",
              "store_and_fwd_flag     object\n",
              "trip_duration           int64\n",
              "dtype: object"
            ]
          },
          "metadata": {},
          "execution_count": 11
        }
      ]
    },
    {
      "cell_type": "markdown",
      "metadata": {
        "id": "6nQgEeJZotff"
      },
      "source": [
        "**categorical variables:**\n",
        "\n",
        "id, pickup_datetime, dropoff_datetime, store_and_fwd_flag\n",
        "\n",
        "**continuous variables:**\n",
        "\n",
        "vendor_id, passenger_count, pickup_longitude, pickup_latitude dropoff_longitude, dropoff_latitude\n",
        "\n",
        "**target variable:** trip_duratation\n",
        "\n",
        "trip_duration is a continuos variable, which determines that the problem is a regression problem."
      ]
    },
    {
      "cell_type": "markdown",
      "metadata": {
        "id": "IXHTzwYoqAS-"
      },
      "source": [
        "\n",
        "understanding categorical variable"
      ]
    },
    {
      "cell_type": "markdown",
      "metadata": {
        "id": "AkBvVzd0ltAj"
      },
      "source": [
        "Now, we will dive into each variable one by one.\n",
        "\n",
        "Starting off with id variable, since it is unique for every record, this feature is not important for the model."
      ]
    },
    {
      "cell_type": "markdown",
      "metadata": {
        "id": "2OCbOV2UqZJJ"
      },
      "source": [
        "feature - store_and_fwd_flag"
      ]
    },
    {
      "cell_type": "code",
      "metadata": {
        "colab": {
          "base_uri": "https://localhost:8080/"
        },
        "id": "4_9j3a9wqfno",
        "outputId": "6a9a69f7-e725-430d-a15c-29022cbd0045"
      },
      "source": [
        "# checking the value count\n",
        "df['store_and_fwd_flag'].value_counts()"
      ],
      "execution_count": null,
      "outputs": [
        {
          "output_type": "execute_result",
          "data": {
            "text/plain": [
              "N    725282\n",
              "Y      4040\n",
              "Name: store_and_fwd_flag, dtype: int64"
            ]
          },
          "metadata": {},
          "execution_count": 12
        }
      ]
    },
    {
      "cell_type": "markdown",
      "metadata": {
        "id": "9y7FGp0yqoJr"
      },
      "source": [
        "This variable contains Yes and No values only. This can be converted to numeric datatype using the label encoder\n",
        "\n",
        "The LabelEncoder() from sklearn.preprocessing will map N to 0 and Y to 1."
      ]
    },
    {
      "cell_type": "code",
      "metadata": {
        "id": "RAjvCJ8JYCSQ"
      },
      "source": [
        "# label_encoder object\n",
        "label_encoder = LabelEncoder()\n",
        "\n",
        "# Encode labels in column 'Discount'.\n",
        "df['store_and_fwd_flag_encoded']= label_encoder.fit_transform(df['store_and_fwd_flag'])\n",
        "df['store_and_fwd_flag_encoded']= label_encoder.fit_transform(df['store_and_fwd_flag'])"
      ],
      "execution_count": null,
      "outputs": []
    },
    {
      "cell_type": "markdown",
      "metadata": {
        "id": "2e5VJA1OmcFX"
      },
      "source": [
        "feature - pickup_datetime, dropoff_datetime"
      ]
    },
    {
      "cell_type": "code",
      "metadata": {
        "colab": {
          "base_uri": "https://localhost:8080/"
        },
        "id": "Qik2t0PnmQzb",
        "outputId": "9abae1e7-b004-418a-8733-e4a7469592bc"
      },
      "source": [
        "# checking the datatype of the datetime feature\n",
        "print(df[['pickup_datetime', 'dropoff_datetime']].dtypes)"
      ],
      "execution_count": null,
      "outputs": [
        {
          "output_type": "stream",
          "name": "stdout",
          "text": [
            "pickup_datetime     object\n",
            "dropoff_datetime    object\n",
            "dtype: object\n"
          ]
        }
      ]
    },
    {
      "cell_type": "markdown",
      "metadata": {
        "id": "C2B4eHaRnBm0"
      },
      "source": [
        "The datetime features have a datatype of string object and to extract features from these datetime variables, we need to first convert them into datetime datatype."
      ]
    },
    {
      "cell_type": "code",
      "metadata": {
        "id": "haUtnht7oEUb"
      },
      "source": [
        "# converting strings to datetime features\n",
        "\n",
        "df['pickup_datetime'] = pd.to_datetime(df.pickup_datetime)\n",
        "df['dropoff_datetime'] = pd.to_datetime(df.dropoff_datetime)"
      ],
      "execution_count": null,
      "outputs": []
    },
    {
      "cell_type": "code",
      "metadata": {
        "colab": {
          "base_uri": "https://localhost:8080/"
        },
        "id": "c5DwUI6QoJ3D",
        "outputId": "df8dc4e1-b4b7-4ae4-8ed1-320f37c780d4"
      },
      "source": [
        "# checking the datatype again\n",
        "\n",
        "print(df[['pickup_datetime', 'dropoff_datetime']].dtypes)"
      ],
      "execution_count": null,
      "outputs": [
        {
          "output_type": "stream",
          "name": "stdout",
          "text": [
            "pickup_datetime     datetime64[ns]\n",
            "dropoff_datetime    datetime64[ns]\n",
            "dtype: object\n"
          ]
        }
      ]
    },
    {
      "cell_type": "code",
      "metadata": {
        "colab": {
          "base_uri": "https://localhost:8080/"
        },
        "id": "Sx6hpeTnyYIe",
        "outputId": "ef807b70-5a93-4e1a-f8c0-c8a5da3afe29"
      },
      "source": [
        "print(\"Startdate: \", df['pickup_datetime'].min())\n",
        "print(\"Enddate: \", df['pickup_datetime'].max())"
      ],
      "execution_count": null,
      "outputs": [
        {
          "output_type": "stream",
          "name": "stdout",
          "text": [
            "Startdate:  2016-01-01 00:01:14\n",
            "Enddate:  2016-06-30 23:59:37\n"
          ]
        }
      ]
    },
    {
      "cell_type": "markdown",
      "metadata": {
        "id": "E-fyMSGjySdw"
      },
      "source": [
        "Checking the trip duration as per datetime feature"
      ]
    },
    {
      "cell_type": "markdown",
      "metadata": {
        "id": "LqZzvqw9yur2"
      },
      "source": [
        "The trip duration data is collected from the time period of first 6 months from the year 2016"
      ]
    },
    {
      "cell_type": "code",
      "metadata": {
        "colab": {
          "base_uri": "https://localhost:8080/",
          "height": 351
        },
        "id": "QldwI24hyuSk",
        "outputId": "4f8ac5e2-4afa-4977-dbb8-1a19199fe173"
      },
      "source": [
        "# extracting more features from the datetime variable\n",
        "\n",
        "df['pickup_day'] = df['pickup_datetime'].dt.day\n",
        "df['pickup_hour'] = df['pickup_datetime'].dt.hour\n",
        "df['pickup_weekday'] = df['pickup_datetime'].dt.weekday\n",
        "\n",
        "\n",
        "# Datetime features\n",
        "plt.figure(figsize=(20, 5))\n",
        "\n",
        "# Passenger Count\n",
        "plt.subplot(141)\n",
        "sns.countplot(df['pickup_day'])\n",
        "plt.xlabel('Day')\n",
        "plt.ylabel('Total Number of pickups')\n",
        "\n",
        "# vendor_id\n",
        "plt.subplot(142)\n",
        "sns.countplot(df['pickup_hour'])\n",
        "plt.xlabel('Hour of Day')\n",
        "plt.ylabel('Total number of pickups')\n",
        "\n",
        "# Passenger Count\n",
        "plt.subplot(143)\n",
        "sns.countplot(df['pickup_weekday'])\n",
        "plt.xlabel('Week Day')\n",
        "plt.ylabel('Total Number of pickups')"
      ],
      "execution_count": null,
      "outputs": [
        {
          "output_type": "execute_result",
          "data": {
            "text/plain": [
              "Text(0, 0.5, 'Total Number of pickups')"
            ]
          },
          "metadata": {},
          "execution_count": 18
        },
        {
          "output_type": "display_data",
          "data": {
            "image/png": "[encoded data removed]",
            "text/plain": [
              "<Figure size 1440x360 with 3 Axes>"
            ]
          },
          "metadata": {
            "needs_background": "light"
          }
        }
      ]
    },
    {
      "cell_type": "markdown",
      "metadata": {
        "id": "WN-GD6Cuzycr"
      },
      "source": [
        "Inferences:\n",
        "1. Weekdays have high trips compare to Saturday(6) and Sunday(0).\n",
        "\n",
        "2. Trip is on peak on Thursday(4).\n",
        "\n",
        "3. Trips are very low in early morning, while very high in the late evening hour in the day.\n",
        "\n",
        "4. first week and second week of the month have more trips"
      ]
    },
    {
      "cell_type": "markdown",
      "metadata": {
        "id": "MwOPi64HQmHf"
      },
      "source": [
        "We can draw powerful insights from these extracted features. So, the same will be done for dropoff_datetime feature"
      ]
    },
    {
      "cell_type": "code",
      "metadata": {
        "id": "x8X-2lxCQZGO"
      },
      "source": [
        "df['dropoff_day'] = df['dropoff_datetime'].dt.day\n",
        "df['dropoff_hour'] = df['dropoff_datetime'].dt.hour\n",
        "df['dropoff_weekday'] = df['dropoff_datetime'].dt.weekday"
      ],
      "execution_count": null,
      "outputs": []
    },
    {
      "cell_type": "code",
      "metadata": {
        "colab": {
          "base_uri": "https://localhost:8080/",
          "height": 309
        },
        "id": "XQp83NNPZHWr",
        "outputId": "ac7ae436-a5c2-4821-ee4e-69653c154b97"
      },
      "source": [
        "df.head()"
      ],
      "execution_count": null,
      "outputs": [
        {
          "output_type": "execute_result",
          "data": {
            "text/html": [
              "<div>\n",
              "<style scoped>\n",
              "    .dataframe tbody tr th:only-of-type {\n",
              "        vertical-align: middle;\n",
              "    }\n",
              "\n",
              "    .dataframe tbody tr th {\n",
              "        vertical-align: top;\n",
              "    }\n",
              "\n",
              "    .dataframe thead th {\n",
              "        text-align: right;\n",
              "    }\n",
              "</style>\n",
              "<table border=\"1\" class=\"dataframe\">\n",
              "  <thead>\n",
              "    <tr style=\"text-align: right;\">\n",
              "      <th></th>\n",
              "      <th>id</th>\n",
              "      <th>vendor_id</th>\n",
              "      <th>pickup_datetime</th>\n",
              "      <th>dropoff_datetime</th>\n",
              "      <th>passenger_count</th>\n",
              "      <th>pickup_longitude</th>\n",
              "      <th>pickup_latitude</th>\n",
              "      <th>dropoff_longitude</th>\n",
              "      <th>dropoff_latitude</th>\n",
              "      <th>store_and_fwd_flag</th>\n",
              "      <th>trip_duration</th>\n",
              "      <th>store_and_fwd_flag_encoded</th>\n",
              "      <th>pickup_day</th>\n",
              "      <th>pickup_hour</th>\n",
              "      <th>pickup_weekday</th>\n",
              "      <th>dropoff_day</th>\n",
              "      <th>dropoff_hour</th>\n",
              "      <th>dropoff_weekday</th>\n",
              "    </tr>\n",
              "  </thead>\n",
              "  <tbody>\n",
              "    <tr>\n",
              "      <th>0</th>\n",
              "      <td>id1080784</td>\n",
              "      <td>2</td>\n",
              "      <td>2016-02-29 16:40:21</td>\n",
              "      <td>2016-02-29 16:47:01</td>\n",
              "      <td>1</td>\n",
              "      <td>-73.953918</td>\n",
              "      <td>40.778873</td>\n",
              "      <td>-73.963875</td>\n",
              "      <td>40.771164</td>\n",
              "      <td>N</td>\n",
              "      <td>400</td>\n",
              "      <td>0</td>\n",
              "      <td>29</td>\n",
              "      <td>16</td>\n",
              "      <td>0</td>\n",
              "      <td>29</td>\n",
              "      <td>16</td>\n",
              "      <td>0</td>\n",
              "    </tr>\n",
              "    <tr>\n",
              "      <th>1</th>\n",
              "      <td>id0889885</td>\n",
              "      <td>1</td>\n",
              "      <td>2016-03-11 23:35:37</td>\n",
              "      <td>2016-03-11 23:53:57</td>\n",
              "      <td>2</td>\n",
              "      <td>-73.988312</td>\n",
              "      <td>40.731743</td>\n",
              "      <td>-73.994751</td>\n",
              "      <td>40.694931</td>\n",
              "      <td>N</td>\n",
              "      <td>1100</td>\n",
              "      <td>0</td>\n",
              "      <td>11</td>\n",
              "      <td>23</td>\n",
              "      <td>4</td>\n",
              "      <td>11</td>\n",
              "      <td>23</td>\n",
              "      <td>4</td>\n",
              "    </tr>\n",
              "    <tr>\n",
              "      <th>2</th>\n",
              "      <td>id0857912</td>\n",
              "      <td>2</td>\n",
              "      <td>2016-02-21 17:59:33</td>\n",
              "      <td>2016-02-21 18:26:48</td>\n",
              "      <td>2</td>\n",
              "      <td>-73.997314</td>\n",
              "      <td>40.721458</td>\n",
              "      <td>-73.948029</td>\n",
              "      <td>40.774918</td>\n",
              "      <td>N</td>\n",
              "      <td>1635</td>\n",
              "      <td>0</td>\n",
              "      <td>21</td>\n",
              "      <td>17</td>\n",
              "      <td>6</td>\n",
              "      <td>21</td>\n",
              "      <td>18</td>\n",
              "      <td>6</td>\n",
              "    </tr>\n",
              "    <tr>\n",
              "      <th>3</th>\n",
              "      <td>id3744273</td>\n",
              "      <td>2</td>\n",
              "      <td>2016-01-05 09:44:31</td>\n",
              "      <td>2016-01-05 10:03:32</td>\n",
              "      <td>6</td>\n",
              "      <td>-73.961670</td>\n",
              "      <td>40.759720</td>\n",
              "      <td>-73.956779</td>\n",
              "      <td>40.780628</td>\n",
              "      <td>N</td>\n",
              "      <td>1141</td>\n",
              "      <td>0</td>\n",
              "      <td>5</td>\n",
              "      <td>9</td>\n",
              "      <td>1</td>\n",
              "      <td>5</td>\n",
              "      <td>10</td>\n",
              "      <td>1</td>\n",
              "    </tr>\n",
              "    <tr>\n",
              "      <th>4</th>\n",
              "      <td>id0232939</td>\n",
              "      <td>1</td>\n",
              "      <td>2016-02-17 06:42:23</td>\n",
              "      <td>2016-02-17 06:56:31</td>\n",
              "      <td>1</td>\n",
              "      <td>-74.017120</td>\n",
              "      <td>40.708469</td>\n",
              "      <td>-73.988182</td>\n",
              "      <td>40.740631</td>\n",
              "      <td>N</td>\n",
              "      <td>848</td>\n",
              "      <td>0</td>\n",
              "      <td>17</td>\n",
              "      <td>6</td>\n",
              "      <td>2</td>\n",
              "      <td>17</td>\n",
              "      <td>6</td>\n",
              "      <td>2</td>\n",
              "    </tr>\n",
              "  </tbody>\n",
              "</table>\n",
              "</div>"
            ],
            "text/plain": [
              "          id  vendor_id  ... dropoff_hour dropoff_weekday\n",
              "0  id1080784          2  ...           16               0\n",
              "1  id0889885          1  ...           23               4\n",
              "2  id0857912          2  ...           18               6\n",
              "3  id3744273          2  ...           10               1\n",
              "4  id0232939          1  ...            6               2\n",
              "\n",
              "[5 rows x 18 columns]"
            ]
          },
          "metadata": {},
          "execution_count": 20
        }
      ]
    },
    {
      "cell_type": "markdown",
      "metadata": {
        "id": "TuAGIU2LZf9v"
      },
      "source": [
        "Feature extraction from logitude and latitude columns."
      ]
    },
    {
      "cell_type": "markdown",
      "metadata": {
        "id": "LCC-6_kVZW0i"
      },
      "source": [
        "The given format is of geographical coordinates from which we can't get any insights. So, we will get the distance from these coordinates."
      ]
    },
    {
      "cell_type": "code",
      "metadata": {
        "id": "H25HxAGnZhLb"
      },
      "source": [
        "def calculate_distance(pickup_lat, pickup_long, dropoff_lat, dropoff_long):\n",
        " \n",
        " start_coords = (pickup_lat, pickup_long)\n",
        " stop_coords = (dropoff_lat, dropoff_long)\n",
        " \n",
        " return great_circle(start_coords,stop_coords).km"
      ],
      "execution_count": null,
      "outputs": []
    },
    {
      "cell_type": "code",
      "metadata": {
        "id": "QtQt6Q6WbbMw"
      },
      "source": [
        "df['distance'] = df.apply(lambda x: calculate_distance(x['pickup_latitude'], \n",
        "                                                       x['pickup_longitude'],\n",
        "                                                       x['dropoff_latitude'],\n",
        "                                                       x['dropoff_longitude']), axis=1)"
      ],
      "execution_count": null,
      "outputs": []
    },
    {
      "cell_type": "code",
      "metadata": {
        "colab": {
          "base_uri": "https://localhost:8080/",
          "height": 309
        },
        "id": "-c8GEr78buWM",
        "outputId": "11fbe8c6-0c92-4473-c1a3-0e45f90f66ed"
      },
      "source": [
        "df.head()"
      ],
      "execution_count": null,
      "outputs": [
        {
          "output_type": "execute_result",
          "data": {
            "text/html": [
              "<div>\n",
              "<style scoped>\n",
              "    .dataframe tbody tr th:only-of-type {\n",
              "        vertical-align: middle;\n",
              "    }\n",
              "\n",
              "    .dataframe tbody tr th {\n",
              "        vertical-align: top;\n",
              "    }\n",
              "\n",
              "    .dataframe thead th {\n",
              "        text-align: right;\n",
              "    }\n",
              "</style>\n",
              "<table border=\"1\" class=\"dataframe\">\n",
              "  <thead>\n",
              "    <tr style=\"text-align: right;\">\n",
              "      <th></th>\n",
              "      <th>id</th>\n",
              "      <th>vendor_id</th>\n",
              "      <th>pickup_datetime</th>\n",
              "      <th>dropoff_datetime</th>\n",
              "      <th>passenger_count</th>\n",
              "      <th>pickup_longitude</th>\n",
              "      <th>pickup_latitude</th>\n",
              "      <th>dropoff_longitude</th>\n",
              "      <th>dropoff_latitude</th>\n",
              "      <th>store_and_fwd_flag</th>\n",
              "      <th>trip_duration</th>\n",
              "      <th>store_and_fwd_flag_encoded</th>\n",
              "      <th>pickup_day</th>\n",
              "      <th>pickup_hour</th>\n",
              "      <th>pickup_weekday</th>\n",
              "      <th>dropoff_day</th>\n",
              "      <th>dropoff_hour</th>\n",
              "      <th>dropoff_weekday</th>\n",
              "      <th>distance</th>\n",
              "    </tr>\n",
              "  </thead>\n",
              "  <tbody>\n",
              "    <tr>\n",
              "      <th>0</th>\n",
              "      <td>id1080784</td>\n",
              "      <td>2</td>\n",
              "      <td>2016-02-29 16:40:21</td>\n",
              "      <td>2016-02-29 16:47:01</td>\n",
              "      <td>1</td>\n",
              "      <td>-73.953918</td>\n",
              "      <td>40.778873</td>\n",
              "      <td>-73.963875</td>\n",
              "      <td>40.771164</td>\n",
              "      <td>N</td>\n",
              "      <td>400</td>\n",
              "      <td>0</td>\n",
              "      <td>29</td>\n",
              "      <td>16</td>\n",
              "      <td>0</td>\n",
              "      <td>29</td>\n",
              "      <td>16</td>\n",
              "      <td>0</td>\n",
              "      <td>1.199074</td>\n",
              "    </tr>\n",
              "    <tr>\n",
              "      <th>1</th>\n",
              "      <td>id0889885</td>\n",
              "      <td>1</td>\n",
              "      <td>2016-03-11 23:35:37</td>\n",
              "      <td>2016-03-11 23:53:57</td>\n",
              "      <td>2</td>\n",
              "      <td>-73.988312</td>\n",
              "      <td>40.731743</td>\n",
              "      <td>-73.994751</td>\n",
              "      <td>40.694931</td>\n",
              "      <td>N</td>\n",
              "      <td>1100</td>\n",
              "      <td>0</td>\n",
              "      <td>11</td>\n",
              "      <td>23</td>\n",
              "      <td>4</td>\n",
              "      <td>11</td>\n",
              "      <td>23</td>\n",
              "      <td>4</td>\n",
              "      <td>4.129117</td>\n",
              "    </tr>\n",
              "    <tr>\n",
              "      <th>2</th>\n",
              "      <td>id0857912</td>\n",
              "      <td>2</td>\n",
              "      <td>2016-02-21 17:59:33</td>\n",
              "      <td>2016-02-21 18:26:48</td>\n",
              "      <td>2</td>\n",
              "      <td>-73.997314</td>\n",
              "      <td>40.721458</td>\n",
              "      <td>-73.948029</td>\n",
              "      <td>40.774918</td>\n",
              "      <td>N</td>\n",
              "      <td>1635</td>\n",
              "      <td>0</td>\n",
              "      <td>21</td>\n",
              "      <td>17</td>\n",
              "      <td>6</td>\n",
              "      <td>21</td>\n",
              "      <td>18</td>\n",
              "      <td>6</td>\n",
              "      <td>7.250763</td>\n",
              "    </tr>\n",
              "    <tr>\n",
              "      <th>3</th>\n",
              "      <td>id3744273</td>\n",
              "      <td>2</td>\n",
              "      <td>2016-01-05 09:44:31</td>\n",
              "      <td>2016-01-05 10:03:32</td>\n",
              "      <td>6</td>\n",
              "      <td>-73.961670</td>\n",
              "      <td>40.759720</td>\n",
              "      <td>-73.956779</td>\n",
              "      <td>40.780628</td>\n",
              "      <td>N</td>\n",
              "      <td>1141</td>\n",
              "      <td>0</td>\n",
              "      <td>5</td>\n",
              "      <td>9</td>\n",
              "      <td>1</td>\n",
              "      <td>5</td>\n",
              "      <td>10</td>\n",
              "      <td>1</td>\n",
              "      <td>2.361101</td>\n",
              "    </tr>\n",
              "    <tr>\n",
              "      <th>4</th>\n",
              "      <td>id0232939</td>\n",
              "      <td>1</td>\n",
              "      <td>2016-02-17 06:42:23</td>\n",
              "      <td>2016-02-17 06:56:31</td>\n",
              "      <td>1</td>\n",
              "      <td>-74.017120</td>\n",
              "      <td>40.708469</td>\n",
              "      <td>-73.988182</td>\n",
              "      <td>40.740631</td>\n",
              "      <td>N</td>\n",
              "      <td>848</td>\n",
              "      <td>0</td>\n",
              "      <td>17</td>\n",
              "      <td>6</td>\n",
              "      <td>2</td>\n",
              "      <td>17</td>\n",
              "      <td>6</td>\n",
              "      <td>2</td>\n",
              "      <td>4.328540</td>\n",
              "    </tr>\n",
              "  </tbody>\n",
              "</table>\n",
              "</div>"
            ],
            "text/plain": [
              "          id  vendor_id  ... dropoff_weekday  distance\n",
              "0  id1080784          2  ...               0  1.199074\n",
              "1  id0889885          1  ...               4  4.129117\n",
              "2  id0857912          2  ...               6  7.250763\n",
              "3  id3744273          2  ...               1  2.361101\n",
              "4  id0232939          1  ...               2  4.328540\n",
              "\n",
              "[5 rows x 19 columns]"
            ]
          },
          "metadata": {},
          "execution_count": 23
        }
      ]
    },
    {
      "cell_type": "markdown",
      "metadata": {
        "id": "RI4IJWRKfnoo"
      },
      "source": [
        "Looking for anomalies, if any"
      ]
    },
    {
      "cell_type": "code",
      "metadata": {
        "colab": {
          "base_uri": "https://localhost:8080/"
        },
        "id": "MVN2x99qfqOq",
        "outputId": "a5be3bdc-4e73-469c-e8ad-8503fd458b0c"
      },
      "source": [
        "df['distance'].value_counts()"
      ],
      "execution_count": null,
      "outputs": [
        {
          "output_type": "execute_result",
          "data": {
            "text/plain": [
              "0.000000    2901\n",
              "0.000424      23\n",
              "0.000424      20\n",
              "0.000424      19\n",
              "0.001273      11\n",
              "            ... \n",
              "0.809168       1\n",
              "5.589764       1\n",
              "2.954873       1\n",
              "6.670588       1\n",
              "4.134754       1\n",
              "Name: distance, Length: 726244, dtype: int64"
            ]
          },
          "metadata": {},
          "execution_count": 24
        }
      ]
    },
    {
      "cell_type": "markdown",
      "metadata": {
        "id": "w5AfheA2fzJA"
      },
      "source": [
        "We can see, there are 2893 records with distance travelled as 0."
      ]
    },
    {
      "cell_type": "markdown",
      "metadata": {
        "id": "9K0Y0ezkZDqS"
      },
      "source": [
        "feature - passenger_count"
      ]
    },
    {
      "cell_type": "code",
      "metadata": {
        "colab": {
          "base_uri": "https://localhost:8080/",
          "height": 352
        },
        "id": "FAd8Ybbfs9cL",
        "outputId": "4f0fe4b3-a33f-4cee-87d7-57d056eace90"
      },
      "source": [
        "# Binary Features\n",
        "plt.figure(figsize=(20, 5))\n",
        "\n",
        "# Passenger Count\n",
        "plt.subplot(131)\n",
        "sns.countplot(df['passenger_count'])\n",
        "plt.xlabel('Passenger Count')\n",
        "plt.ylabel('Frequency')\n",
        "\n",
        "# vendor_id\n",
        "plt.subplot(132)\n",
        "sns.countplot(df['vendor_id'])\n",
        "plt.xlabel('vendor_id')\n",
        "plt.ylabel('Frequency')\n",
        "\n",
        "# store_and_fwd_flag\n",
        "plt.subplot(133)\n",
        "sns.countplot(df['store_and_fwd_flag'])\n",
        "plt.xlabel('store_and_fwd_flag')\n",
        "plt.ylabel('Frequency')"
      ],
      "execution_count": null,
      "outputs": [
        {
          "output_type": "execute_result",
          "data": {
            "text/plain": [
              "Text(0, 0.5, 'Frequency')"
            ]
          },
          "metadata": {},
          "execution_count": 25
        },
        {
          "output_type": "display_data",
          "data": {
            "image/png": "[encoded data removed]",
            "text/plain": [
              "<Figure size 1440x360 with 3 Axes>"
            ]
          },
          "metadata": {
            "needs_background": "light"
          }
        }
      ]
    },
    {
      "cell_type": "markdown",
      "metadata": {
        "id": "I3HcXoqevF3i"
      },
      "source": [
        "Inferences:\n",
        "\n",
        "1. Most trips consists rides with 1 passenger only.\n",
        "2. Vendor 2 has more trips, compared to vendor 1\n",
        "3. The value with Y is very low in the store_and_fwd_flag variable. This suggests that almost no storing took place"
      ]
    },
    {
      "cell_type": "markdown",
      "metadata": {
        "id": "Oji5gZO0cLAL"
      },
      "source": [
        "feature engineering for passenger_count"
      ]
    },
    {
      "cell_type": "code",
      "metadata": {
        "colab": {
          "base_uri": "https://localhost:8080/"
        },
        "id": "RJIg-puzcKoE",
        "outputId": "84e16ca5-a63c-4e63-d43c-6d2330efac0b"
      },
      "source": [
        "df['passenger_count'].value_counts()"
      ],
      "execution_count": null,
      "outputs": [
        {
          "output_type": "execute_result",
          "data": {
            "text/plain": [
              "1    517415\n",
              "2    105097\n",
              "5     38926\n",
              "3     29692\n",
              "6     24107\n",
              "4     14050\n",
              "0        33\n",
              "9         1\n",
              "7         1\n",
              "Name: passenger_count, dtype: int64"
            ]
          },
          "metadata": {},
          "execution_count": 26
        }
      ]
    },
    {
      "cell_type": "markdown",
      "metadata": {
        "id": "w2UG1Qoscd8n"
      },
      "source": [
        "From the graph and the data above, we can see there are extremely low values with passenger_count 0, 7 and 9. So, we will remove these records"
      ]
    },
    {
      "cell_type": "code",
      "metadata": {
        "id": "ZdofWT1Cc6FB"
      },
      "source": [
        "df=df[df['passenger_count']!=0]\n",
        "df=df[df['passenger_count']<=6]"
      ],
      "execution_count": null,
      "outputs": []
    },
    {
      "cell_type": "code",
      "metadata": {
        "colab": {
          "base_uri": "https://localhost:8080/"
        },
        "id": "Ods3z_FmdSPx",
        "outputId": "7470cac3-68f1-4cb3-ddf2-bdb6f1d4cc7e"
      },
      "source": [
        "# checking the passenger_count value distribution again\n",
        "\n",
        "df['passenger_count'].value_counts()"
      ],
      "execution_count": null,
      "outputs": [
        {
          "output_type": "execute_result",
          "data": {
            "text/plain": [
              "1    517415\n",
              "2    105097\n",
              "5     38926\n",
              "3     29692\n",
              "6     24107\n",
              "4     14050\n",
              "Name: passenger_count, dtype: int64"
            ]
          },
          "metadata": {},
          "execution_count": 28
        }
      ]
    },
    {
      "cell_type": "code",
      "metadata": {
        "colab": {
          "base_uri": "https://localhost:8080/",
          "height": 309
        },
        "id": "pzmtWZRkddPU",
        "outputId": "81f77a77-4c98-441a-c3b1-31b48389c485"
      },
      "source": [
        "df.head()"
      ],
      "execution_count": null,
      "outputs": [
        {
          "output_type": "execute_result",
          "data": {
            "text/html": [
              "<div>\n",
              "<style scoped>\n",
              "    .dataframe tbody tr th:only-of-type {\n",
              "        vertical-align: middle;\n",
              "    }\n",
              "\n",
              "    .dataframe tbody tr th {\n",
              "        vertical-align: top;\n",
              "    }\n",
              "\n",
              "    .dataframe thead th {\n",
              "        text-align: right;\n",
              "    }\n",
              "</style>\n",
              "<table border=\"1\" class=\"dataframe\">\n",
              "  <thead>\n",
              "    <tr style=\"text-align: right;\">\n",
              "      <th></th>\n",
              "      <th>id</th>\n",
              "      <th>vendor_id</th>\n",
              "      <th>pickup_datetime</th>\n",
              "      <th>dropoff_datetime</th>\n",
              "      <th>passenger_count</th>\n",
              "      <th>pickup_longitude</th>\n",
              "      <th>pickup_latitude</th>\n",
              "      <th>dropoff_longitude</th>\n",
              "      <th>dropoff_latitude</th>\n",
              "      <th>store_and_fwd_flag</th>\n",
              "      <th>trip_duration</th>\n",
              "      <th>store_and_fwd_flag_encoded</th>\n",
              "      <th>pickup_day</th>\n",
              "      <th>pickup_hour</th>\n",
              "      <th>pickup_weekday</th>\n",
              "      <th>dropoff_day</th>\n",
              "      <th>dropoff_hour</th>\n",
              "      <th>dropoff_weekday</th>\n",
              "      <th>distance</th>\n",
              "    </tr>\n",
              "  </thead>\n",
              "  <tbody>\n",
              "    <tr>\n",
              "      <th>0</th>\n",
              "      <td>id1080784</td>\n",
              "      <td>2</td>\n",
              "      <td>2016-02-29 16:40:21</td>\n",
              "      <td>2016-02-29 16:47:01</td>\n",
              "      <td>1</td>\n",
              "      <td>-73.953918</td>\n",
              "      <td>40.778873</td>\n",
              "      <td>-73.963875</td>\n",
              "      <td>40.771164</td>\n",
              "      <td>N</td>\n",
              "      <td>400</td>\n",
              "      <td>0</td>\n",
              "      <td>29</td>\n",
              "      <td>16</td>\n",
              "      <td>0</td>\n",
              "      <td>29</td>\n",
              "      <td>16</td>\n",
              "      <td>0</td>\n",
              "      <td>1.199074</td>\n",
              "    </tr>\n",
              "    <tr>\n",
              "      <th>1</th>\n",
              "      <td>id0889885</td>\n",
              "      <td>1</td>\n",
              "      <td>2016-03-11 23:35:37</td>\n",
              "      <td>2016-03-11 23:53:57</td>\n",
              "      <td>2</td>\n",
              "      <td>-73.988312</td>\n",
              "      <td>40.731743</td>\n",
              "      <td>-73.994751</td>\n",
              "      <td>40.694931</td>\n",
              "      <td>N</td>\n",
              "      <td>1100</td>\n",
              "      <td>0</td>\n",
              "      <td>11</td>\n",
              "      <td>23</td>\n",
              "      <td>4</td>\n",
              "      <td>11</td>\n",
              "      <td>23</td>\n",
              "      <td>4</td>\n",
              "      <td>4.129117</td>\n",
              "    </tr>\n",
              "    <tr>\n",
              "      <th>2</th>\n",
              "      <td>id0857912</td>\n",
              "      <td>2</td>\n",
              "      <td>2016-02-21 17:59:33</td>\n",
              "      <td>2016-02-21 18:26:48</td>\n",
              "      <td>2</td>\n",
              "      <td>-73.997314</td>\n",
              "      <td>40.721458</td>\n",
              "      <td>-73.948029</td>\n",
              "      <td>40.774918</td>\n",
              "      <td>N</td>\n",
              "      <td>1635</td>\n",
              "      <td>0</td>\n",
              "      <td>21</td>\n",
              "      <td>17</td>\n",
              "      <td>6</td>\n",
              "      <td>21</td>\n",
              "      <td>18</td>\n",
              "      <td>6</td>\n",
              "      <td>7.250763</td>\n",
              "    </tr>\n",
              "    <tr>\n",
              "      <th>3</th>\n",
              "      <td>id3744273</td>\n",
              "      <td>2</td>\n",
              "      <td>2016-01-05 09:44:31</td>\n",
              "      <td>2016-01-05 10:03:32</td>\n",
              "      <td>6</td>\n",
              "      <td>-73.961670</td>\n",
              "      <td>40.759720</td>\n",
              "      <td>-73.956779</td>\n",
              "      <td>40.780628</td>\n",
              "      <td>N</td>\n",
              "      <td>1141</td>\n",
              "      <td>0</td>\n",
              "      <td>5</td>\n",
              "      <td>9</td>\n",
              "      <td>1</td>\n",
              "      <td>5</td>\n",
              "      <td>10</td>\n",
              "      <td>1</td>\n",
              "      <td>2.361101</td>\n",
              "    </tr>\n",
              "    <tr>\n",
              "      <th>4</th>\n",
              "      <td>id0232939</td>\n",
              "      <td>1</td>\n",
              "      <td>2016-02-17 06:42:23</td>\n",
              "      <td>2016-02-17 06:56:31</td>\n",
              "      <td>1</td>\n",
              "      <td>-74.017120</td>\n",
              "      <td>40.708469</td>\n",
              "      <td>-73.988182</td>\n",
              "      <td>40.740631</td>\n",
              "      <td>N</td>\n",
              "      <td>848</td>\n",
              "      <td>0</td>\n",
              "      <td>17</td>\n",
              "      <td>6</td>\n",
              "      <td>2</td>\n",
              "      <td>17</td>\n",
              "      <td>6</td>\n",
              "      <td>2</td>\n",
              "      <td>4.328540</td>\n",
              "    </tr>\n",
              "  </tbody>\n",
              "</table>\n",
              "</div>"
            ],
            "text/plain": [
              "          id  vendor_id  ... dropoff_weekday  distance\n",
              "0  id1080784          2  ...               0  1.199074\n",
              "1  id0889885          1  ...               4  4.129117\n",
              "2  id0857912          2  ...               6  7.250763\n",
              "3  id3744273          2  ...               1  2.361101\n",
              "4  id0232939          1  ...               2  4.328540\n",
              "\n",
              "[5 rows x 19 columns]"
            ]
          },
          "metadata": {},
          "execution_count": 29
        }
      ]
    },
    {
      "cell_type": "markdown",
      "metadata": {
        "id": "ETIl7bnEeyj8"
      },
      "source": [
        "The 'id' variable"
      ]
    },
    {
      "cell_type": "code",
      "metadata": {
        "colab": {
          "base_uri": "https://localhost:8080/"
        },
        "id": "pesNMofDe1ha",
        "outputId": "7ef2aa12-60bf-4d9a-a5d1-23f0c35f8144"
      },
      "source": [
        "#checking the number of unique values in id variable\n",
        "\n",
        "df['id'].nunique()"
      ],
      "execution_count": null,
      "outputs": [
        {
          "output_type": "execute_result",
          "data": {
            "text/plain": [
              "729287"
            ]
          },
          "metadata": {},
          "execution_count": 30
        }
      ]
    },
    {
      "cell_type": "code",
      "metadata": {
        "colab": {
          "base_uri": "https://localhost:8080/"
        },
        "id": "zpdg7QKbe-Mo",
        "outputId": "9626a481-9199-43a4-e96b-971659bf3603"
      },
      "source": [
        "# checking the shape of the dataset now\n",
        "\n",
        "df.shape"
      ],
      "execution_count": null,
      "outputs": [
        {
          "output_type": "execute_result",
          "data": {
            "text/plain": [
              "(729287, 19)"
            ]
          },
          "metadata": {},
          "execution_count": 31
        }
      ]
    },
    {
      "cell_type": "markdown",
      "metadata": {
        "id": "9AnJsgbufG29"
      },
      "source": [
        "The number of unique values in id variable is exactly same to the number of records, and so we cannot infer any insight from the variable that can help build our model. So, we will remove this column."
      ]
    },
    {
      "cell_type": "markdown",
      "metadata": {
        "id": "V03o5UFckZMK"
      },
      "source": [
        "**target variable - trip duration**"
      ]
    },
    {
      "cell_type": "markdown",
      "metadata": {
        "id": "5L_nYsyirukL"
      },
      "source": [
        "exploring the target variable"
      ]
    },
    {
      "cell_type": "code",
      "metadata": {
        "colab": {
          "base_uri": "https://localhost:8080/"
        },
        "id": "-qs6fw9SrzCb",
        "outputId": "319e4e4e-4c55-4a15-ec57-89889152058e"
      },
      "source": [
        "# trip duration in hour\n",
        "df['trip_duration'].describe()/3600"
      ],
      "execution_count": null,
      "outputs": [
        {
          "output_type": "execute_result",
          "data": {
            "text/plain": [
              "count    202.579722\n",
              "mean       0.264515\n",
              "std        1.073531\n",
              "min        0.000278\n",
              "25%        0.110278\n",
              "50%        0.184167\n",
              "75%        0.298611\n",
              "max      538.815556\n",
              "Name: trip_duration, dtype: float64"
            ]
          },
          "metadata": {},
          "execution_count": 32
        }
      ]
    },
    {
      "cell_type": "markdown",
      "metadata": {
        "id": "A6_xF0U8sZS0"
      },
      "source": [
        "The maximum trip duration is of 538 hours which seems to be an outlier. To help the model make more accurate prediction, we need to log transform this feature."
      ]
    },
    {
      "cell_type": "code",
      "metadata": {
        "id": "MYy7DsCAkjww"
      },
      "source": [
        "# trip duration in hours\n",
        "df['trip_duration_in_hour'] = df['trip_duration'].apply(lambda x : x/3600)"
      ],
      "execution_count": null,
      "outputs": []
    },
    {
      "cell_type": "code",
      "metadata": {
        "id": "ObZCZJs_kvhN"
      },
      "source": [
        "# removing outliers considering trips are not supposed to exceed a day(24 hours)\n",
        "df = df[df['trip_duration_in_hour']<=24]"
      ],
      "execution_count": null,
      "outputs": []
    },
    {
      "cell_type": "code",
      "metadata": {
        "colab": {
          "base_uri": "https://localhost:8080/"
        },
        "id": "iKFN4Duznthu",
        "outputId": "71d42cd3-62f1-4d3e-fc6f-bab285418a0e"
      },
      "source": [
        "df['trip_duration_in_hour'].min(), df['trip_duration_in_hour'].max()"
      ],
      "execution_count": null,
      "outputs": [
        {
          "output_type": "execute_result",
          "data": {
            "text/plain": [
              "(0.0002777777777777778, 23.9975)"
            ]
          },
          "metadata": {},
          "execution_count": 35
        }
      ]
    },
    {
      "cell_type": "code",
      "metadata": {
        "colab": {
          "base_uri": "https://localhost:8080/",
          "height": 387
        },
        "id": "qPUFpPEAnS4o",
        "outputId": "91be4bd4-045b-4298-9ede-7db47a61953f"
      },
      "source": [
        "sns.relplot(y=df['distance'],x='trip_duration_in_hour',data=df)"
      ],
      "execution_count": null,
      "outputs": [
        {
          "output_type": "execute_result",
          "data": {
            "text/plain": [
              "<seaborn.axisgrid.FacetGrid at 0x7f89970ddcd0>"
            ]
          },
          "metadata": {},
          "execution_count": 36
        },
        {
          "output_type": "display_data",
          "data": {
            "image/png": "[encoded data removed]",
            "text/plain": [
              "<Figure size 360x360 with 1 Axes>"
            ]
          },
          "metadata": {
            "needs_background": "light"
          }
        }
      ]
    },
    {
      "cell_type": "markdown",
      "metadata": {
        "id": "qn3_RSHqn4Pb"
      },
      "source": [
        "Some trips have high distance for 0 trip duration, while some have high trip duration for 0 distance"
      ]
    },
    {
      "cell_type": "code",
      "metadata": {
        "colab": {
          "base_uri": "https://localhost:8080/",
          "height": 284
        },
        "id": "4rqGyCldtTkC",
        "outputId": "ae921185-6bd1-46ca-ae39-0421e76185bf"
      },
      "source": [
        "# before log transform\n",
        "sns.distplot(df['trip_duration'])\n",
        "plt.show()"
      ],
      "execution_count": null,
      "outputs": [
        {
          "output_type": "display_data",
          "data": {
            "image/png": "[encoded data removed]",
            "text/plain": [
              "<Figure size 432x288 with 1 Axes>"
            ]
          },
          "metadata": {
            "needs_background": "light"
          }
        }
      ]
    },
    {
      "cell_type": "markdown",
      "metadata": {
        "id": "UA4_E9mBlPIi"
      },
      "source": [
        "Let's normalize the trip_duration column to remove this high skewness"
      ]
    },
    {
      "cell_type": "code",
      "metadata": {
        "colab": {
          "base_uri": "https://localhost:8080/",
          "height": 280
        },
        "id": "RFb_3Ed1r4mJ",
        "outputId": "7ff78190-ead9-4f01-bb45-5491590ec231"
      },
      "source": [
        "# after log transform of trip duration in seconds\n",
        "\n",
        "df['trip_duration_log'] = np.log(df['trip_duration'].values + 1)\n",
        "sns.distplot(df['trip_duration_log'], kde = False)\n",
        "plt.show()"
      ],
      "execution_count": null,
      "outputs": [
        {
          "output_type": "display_data",
          "data": {
            "image/png": "[encoded data removed]",
            "text/plain": [
              "<Figure size 432x288 with 1 Axes>"
            ]
          },
          "metadata": {
            "needs_background": "light"
          }
        }
      ]
    },
    {
      "cell_type": "markdown",
      "metadata": {
        "id": "14lrIpL_eCAp"
      },
      "source": [
        "Since, all the feature engineering steps are done now, we can remove the extra columns that are not needed anymore"
      ]
    },
    {
      "cell_type": "markdown",
      "metadata": {
        "id": "wqSKmCzEm_PR"
      },
      "source": [
        "We have seen some anomalies with trip duration and distance. Let's try to remove these outliers"
      ]
    },
    {
      "cell_type": "code",
      "metadata": {
        "colab": {
          "base_uri": "https://localhost:8080/",
          "height": 309
        },
        "id": "PrDgFf4oul3S",
        "outputId": "ae7e85a9-fc87-429d-8098-b9861cdd8bd4"
      },
      "source": [
        "df.head()"
      ],
      "execution_count": null,
      "outputs": [
        {
          "output_type": "execute_result",
          "data": {
            "text/html": [
              "<div>\n",
              "<style scoped>\n",
              "    .dataframe tbody tr th:only-of-type {\n",
              "        vertical-align: middle;\n",
              "    }\n",
              "\n",
              "    .dataframe tbody tr th {\n",
              "        vertical-align: top;\n",
              "    }\n",
              "\n",
              "    .dataframe thead th {\n",
              "        text-align: right;\n",
              "    }\n",
              "</style>\n",
              "<table border=\"1\" class=\"dataframe\">\n",
              "  <thead>\n",
              "    <tr style=\"text-align: right;\">\n",
              "      <th></th>\n",
              "      <th>id</th>\n",
              "      <th>vendor_id</th>\n",
              "      <th>pickup_datetime</th>\n",
              "      <th>dropoff_datetime</th>\n",
              "      <th>passenger_count</th>\n",
              "      <th>pickup_longitude</th>\n",
              "      <th>pickup_latitude</th>\n",
              "      <th>dropoff_longitude</th>\n",
              "      <th>dropoff_latitude</th>\n",
              "      <th>store_and_fwd_flag</th>\n",
              "      <th>trip_duration</th>\n",
              "      <th>store_and_fwd_flag_encoded</th>\n",
              "      <th>pickup_day</th>\n",
              "      <th>pickup_hour</th>\n",
              "      <th>pickup_weekday</th>\n",
              "      <th>dropoff_day</th>\n",
              "      <th>dropoff_hour</th>\n",
              "      <th>dropoff_weekday</th>\n",
              "      <th>distance</th>\n",
              "      <th>trip_duration_in_hour</th>\n",
              "      <th>trip_duration_log</th>\n",
              "    </tr>\n",
              "  </thead>\n",
              "  <tbody>\n",
              "    <tr>\n",
              "      <th>0</th>\n",
              "      <td>id1080784</td>\n",
              "      <td>2</td>\n",
              "      <td>2016-02-29 16:40:21</td>\n",
              "      <td>2016-02-29 16:47:01</td>\n",
              "      <td>1</td>\n",
              "      <td>-73.953918</td>\n",
              "      <td>40.778873</td>\n",
              "      <td>-73.963875</td>\n",
              "      <td>40.771164</td>\n",
              "      <td>N</td>\n",
              "      <td>400</td>\n",
              "      <td>0</td>\n",
              "      <td>29</td>\n",
              "      <td>16</td>\n",
              "      <td>0</td>\n",
              "      <td>29</td>\n",
              "      <td>16</td>\n",
              "      <td>0</td>\n",
              "      <td>1.199074</td>\n",
              "      <td>0.111111</td>\n",
              "      <td>5.993961</td>\n",
              "    </tr>\n",
              "    <tr>\n",
              "      <th>1</th>\n",
              "      <td>id0889885</td>\n",
              "      <td>1</td>\n",
              "      <td>2016-03-11 23:35:37</td>\n",
              "      <td>2016-03-11 23:53:57</td>\n",
              "      <td>2</td>\n",
              "      <td>-73.988312</td>\n",
              "      <td>40.731743</td>\n",
              "      <td>-73.994751</td>\n",
              "      <td>40.694931</td>\n",
              "      <td>N</td>\n",
              "      <td>1100</td>\n",
              "      <td>0</td>\n",
              "      <td>11</td>\n",
              "      <td>23</td>\n",
              "      <td>4</td>\n",
              "      <td>11</td>\n",
              "      <td>23</td>\n",
              "      <td>4</td>\n",
              "      <td>4.129117</td>\n",
              "      <td>0.305556</td>\n",
              "      <td>7.003974</td>\n",
              "    </tr>\n",
              "    <tr>\n",
              "      <th>2</th>\n",
              "      <td>id0857912</td>\n",
              "      <td>2</td>\n",
              "      <td>2016-02-21 17:59:33</td>\n",
              "      <td>2016-02-21 18:26:48</td>\n",
              "      <td>2</td>\n",
              "      <td>-73.997314</td>\n",
              "      <td>40.721458</td>\n",
              "      <td>-73.948029</td>\n",
              "      <td>40.774918</td>\n",
              "      <td>N</td>\n",
              "      <td>1635</td>\n",
              "      <td>0</td>\n",
              "      <td>21</td>\n",
              "      <td>17</td>\n",
              "      <td>6</td>\n",
              "      <td>21</td>\n",
              "      <td>18</td>\n",
              "      <td>6</td>\n",
              "      <td>7.250763</td>\n",
              "      <td>0.454167</td>\n",
              "      <td>7.400010</td>\n",
              "    </tr>\n",
              "    <tr>\n",
              "      <th>3</th>\n",
              "      <td>id3744273</td>\n",
              "      <td>2</td>\n",
              "      <td>2016-01-05 09:44:31</td>\n",
              "      <td>2016-01-05 10:03:32</td>\n",
              "      <td>6</td>\n",
              "      <td>-73.961670</td>\n",
              "      <td>40.759720</td>\n",
              "      <td>-73.956779</td>\n",
              "      <td>40.780628</td>\n",
              "      <td>N</td>\n",
              "      <td>1141</td>\n",
              "      <td>0</td>\n",
              "      <td>5</td>\n",
              "      <td>9</td>\n",
              "      <td>1</td>\n",
              "      <td>5</td>\n",
              "      <td>10</td>\n",
              "      <td>1</td>\n",
              "      <td>2.361101</td>\n",
              "      <td>0.316944</td>\n",
              "      <td>7.040536</td>\n",
              "    </tr>\n",
              "    <tr>\n",
              "      <th>4</th>\n",
              "      <td>id0232939</td>\n",
              "      <td>1</td>\n",
              "      <td>2016-02-17 06:42:23</td>\n",
              "      <td>2016-02-17 06:56:31</td>\n",
              "      <td>1</td>\n",
              "      <td>-74.017120</td>\n",
              "      <td>40.708469</td>\n",
              "      <td>-73.988182</td>\n",
              "      <td>40.740631</td>\n",
              "      <td>N</td>\n",
              "      <td>848</td>\n",
              "      <td>0</td>\n",
              "      <td>17</td>\n",
              "      <td>6</td>\n",
              "      <td>2</td>\n",
              "      <td>17</td>\n",
              "      <td>6</td>\n",
              "      <td>2</td>\n",
              "      <td>4.328540</td>\n",
              "      <td>0.235556</td>\n",
              "      <td>6.744059</td>\n",
              "    </tr>\n",
              "  </tbody>\n",
              "</table>\n",
              "</div>"
            ],
            "text/plain": [
              "          id  vendor_id  ... trip_duration_in_hour trip_duration_log\n",
              "0  id1080784          2  ...              0.111111          5.993961\n",
              "1  id0889885          1  ...              0.305556          7.003974\n",
              "2  id0857912          2  ...              0.454167          7.400010\n",
              "3  id3744273          2  ...              0.316944          7.040536\n",
              "4  id0232939          1  ...              0.235556          6.744059\n",
              "\n",
              "[5 rows x 21 columns]"
            ]
          },
          "metadata": {},
          "execution_count": 39
        }
      ]
    },
    {
      "cell_type": "code",
      "metadata": {
        "id": "LjL2qANMeAAt"
      },
      "source": [
        "df1 = df.drop(columns=['id', 'pickup_datetime', 'dropoff_datetime', 'pickup_longitude',\t'pickup_latitude',\t\n",
        "                       'dropoff_longitude',\t'dropoff_latitude',\t'store_and_fwd_flag',\t'trip_duration', \n",
        "                       'trip_duration_in_hour'])"
      ],
      "execution_count": null,
      "outputs": []
    },
    {
      "cell_type": "markdown",
      "metadata": {
        "id": "tQ9SQTlUxp8-"
      },
      "source": [
        "correlation heatmap"
      ]
    },
    {
      "cell_type": "code",
      "metadata": {
        "colab": {
          "base_uri": "https://localhost:8080/",
          "height": 512
        },
        "id": "oLCGuacDuyj3",
        "outputId": "ec52a360-e712-4bde-c00a-b1933c162cad"
      },
      "source": [
        "# checking the correlation among all features\n",
        "\n",
        "plt.figure(figsize=(12, 6))\n",
        "corr = df1.corr()\n",
        "ax = sns.heatmap(corr, xticklabels=corr.columns, yticklabels=corr.columns, \n",
        "                 linewidths=.2, cmap=\"YlGnBu\")"
      ],
      "execution_count": null,
      "outputs": [
        {
          "output_type": "display_data",
          "data": {
            "image/png": "[encoded data removed]",
            "text/plain": [
              "<Figure size 864x432 with 2 Axes>"
            ]
          },
          "metadata": {
            "needs_background": "light"
          }
        }
      ]
    },
    {
      "cell_type": "code",
      "metadata": {
        "colab": {
          "base_uri": "https://localhost:8080/",
          "height": 131
        },
        "id": "9Yrpq7bivxgP",
        "outputId": "f38d6c0b-cfb8-4a32-d617-5a4b95d6fd50"
      },
      "source": [
        "df1.head(2)"
      ],
      "execution_count": null,
      "outputs": [
        {
          "output_type": "execute_result",
          "data": {
            "text/html": [
              "<div>\n",
              "<style scoped>\n",
              "    .dataframe tbody tr th:only-of-type {\n",
              "        vertical-align: middle;\n",
              "    }\n",
              "\n",
              "    .dataframe tbody tr th {\n",
              "        vertical-align: top;\n",
              "    }\n",
              "\n",
              "    .dataframe thead th {\n",
              "        text-align: right;\n",
              "    }\n",
              "</style>\n",
              "<table border=\"1\" class=\"dataframe\">\n",
              "  <thead>\n",
              "    <tr style=\"text-align: right;\">\n",
              "      <th></th>\n",
              "      <th>vendor_id</th>\n",
              "      <th>passenger_count</th>\n",
              "      <th>store_and_fwd_flag_encoded</th>\n",
              "      <th>pickup_day</th>\n",
              "      <th>pickup_hour</th>\n",
              "      <th>pickup_weekday</th>\n",
              "      <th>dropoff_day</th>\n",
              "      <th>dropoff_hour</th>\n",
              "      <th>dropoff_weekday</th>\n",
              "      <th>distance</th>\n",
              "      <th>trip_duration_log</th>\n",
              "    </tr>\n",
              "  </thead>\n",
              "  <tbody>\n",
              "    <tr>\n",
              "      <th>0</th>\n",
              "      <td>2</td>\n",
              "      <td>1</td>\n",
              "      <td>0</td>\n",
              "      <td>29</td>\n",
              "      <td>16</td>\n",
              "      <td>0</td>\n",
              "      <td>29</td>\n",
              "      <td>16</td>\n",
              "      <td>0</td>\n",
              "      <td>1.199074</td>\n",
              "      <td>5.993961</td>\n",
              "    </tr>\n",
              "    <tr>\n",
              "      <th>1</th>\n",
              "      <td>1</td>\n",
              "      <td>2</td>\n",
              "      <td>0</td>\n",
              "      <td>11</td>\n",
              "      <td>23</td>\n",
              "      <td>4</td>\n",
              "      <td>11</td>\n",
              "      <td>23</td>\n",
              "      <td>4</td>\n",
              "      <td>4.129117</td>\n",
              "      <td>7.003974</td>\n",
              "    </tr>\n",
              "  </tbody>\n",
              "</table>\n",
              "</div>"
            ],
            "text/plain": [
              "   vendor_id  passenger_count  ...  distance  trip_duration_log\n",
              "0          2                1  ...  1.199074           5.993961\n",
              "1          1                2  ...  4.129117           7.003974\n",
              "\n",
              "[2 rows x 11 columns]"
            ]
          },
          "metadata": {},
          "execution_count": 42
        }
      ]
    },
    {
      "cell_type": "code",
      "metadata": {
        "id": "aNwjLAltvtsp"
      },
      "source": [
        "X = df1.drop('trip_duration_log', axis=1)\n",
        "y = df1['trip_duration_log']"
      ],
      "execution_count": null,
      "outputs": []
    },
    {
      "cell_type": "markdown",
      "metadata": {
        "id": "QtmpRMzoHPgT"
      },
      "source": [
        "**Scaling the data**"
      ]
    },
    {
      "cell_type": "code",
      "metadata": {
        "id": "_eixOaT4CLrc"
      },
      "source": [
        "scaler = MinMaxScaler()\n",
        "x_scaled = scaler.fit_transform(X)\n",
        "\n",
        "X = pd.DataFrame(x_scaled, columns=X.columns)"
      ],
      "execution_count": null,
      "outputs": []
    },
    {
      "cell_type": "markdown",
      "metadata": {
        "id": "hTf5NbpLM7KA"
      },
      "source": [
        "# Basic Predictive Modeling"
      ]
    },
    {
      "cell_type": "markdown",
      "metadata": {
        "id": "d-EiaORaOMpl"
      },
      "source": [
        "Choose the most suitable evaluation metric and state why you chose it.\n"
      ]
    },
    {
      "cell_type": "markdown",
      "metadata": {
        "id": "yFIOHSMSPge6"
      },
      "source": [
        "This is a regression problem, since we have to predict discrete value, i.e., our target variable - trip duration.\n",
        "\n",
        "We have a lot of options to choose as evaluation metric such as, Mean Absolute Error, Mean Squared Error, Root Mean Squared Error, Root Mean Squared log error and R-squared\n",
        "\n",
        "**Chosen evalutation metric - Root Mean Squared Error (RMSE)**\n",
        "\n",
        "Mean squared error states that finding the squared difference between actual and predicted value.\n",
        "RMSE is a simple square root of mean squared error.\n",
        "\n",
        "RMSE is a very simple metric to be used for evaluation. Since, we will be comparing our models and we will explicitly create a benchmark model as a baseline, RMSE will easy to compare these different models. Lower, the value of RMSE, better the model. Also, it will be used for getting the elbow curve."
      ]
    },
    {
      "cell_type": "code",
      "metadata": {
        "id": "wi4k7vVLvOhR"
      },
      "source": [
        "X_train, X_test, y_train, y_test = train_test_split(X, y, test_size=0.25, random_state=42)"
      ],
      "execution_count": null,
      "outputs": []
    },
    {
      "cell_type": "markdown",
      "metadata": {
        "id": "e25aUHbjzzJB"
      },
      "source": [
        "### Benchmark model"
      ]
    },
    {
      "cell_type": "code",
      "metadata": {
        "id": "yfXBDCTJAFAG"
      },
      "source": [
        "# creating train and test set for benchmark model\n",
        "\n",
        "benchmark_train = pd.concat([X_train, y_train], axis=1, join=\"inner\")\n",
        "benchmark_test = pd.concat([X_test, y_test], axis=1, join=\"inner\")"
      ],
      "execution_count": null,
      "outputs": []
    },
    {
      "cell_type": "code",
      "metadata": {
        "colab": {
          "base_uri": "https://localhost:8080/",
          "height": 162
        },
        "id": "ZuZCAknWA26d",
        "outputId": "01086ef5-0063-41f1-d3e7-3a5934487072"
      },
      "source": [
        "benchmark_train.head(3)"
      ],
      "execution_count": null,
      "outputs": [
        {
          "output_type": "execute_result",
          "data": {
            "text/html": [
              "<div>\n",
              "<style scoped>\n",
              "    .dataframe tbody tr th:only-of-type {\n",
              "        vertical-align: middle;\n",
              "    }\n",
              "\n",
              "    .dataframe tbody tr th {\n",
              "        vertical-align: top;\n",
              "    }\n",
              "\n",
              "    .dataframe thead th {\n",
              "        text-align: right;\n",
              "    }\n",
              "</style>\n",
              "<table border=\"1\" class=\"dataframe\">\n",
              "  <thead>\n",
              "    <tr style=\"text-align: right;\">\n",
              "      <th></th>\n",
              "      <th>vendor_id</th>\n",
              "      <th>passenger_count</th>\n",
              "      <th>store_and_fwd_flag_encoded</th>\n",
              "      <th>pickup_day</th>\n",
              "      <th>pickup_hour</th>\n",
              "      <th>pickup_weekday</th>\n",
              "      <th>dropoff_day</th>\n",
              "      <th>dropoff_hour</th>\n",
              "      <th>dropoff_weekday</th>\n",
              "      <th>distance</th>\n",
              "      <th>trip_duration_log</th>\n",
              "    </tr>\n",
              "  </thead>\n",
              "  <tbody>\n",
              "    <tr>\n",
              "      <th>377868</th>\n",
              "      <td>0.0</td>\n",
              "      <td>0.0</td>\n",
              "      <td>0.0</td>\n",
              "      <td>0.333333</td>\n",
              "      <td>0.260870</td>\n",
              "      <td>0.000000</td>\n",
              "      <td>0.333333</td>\n",
              "      <td>0.260870</td>\n",
              "      <td>0.000000</td>\n",
              "      <td>0.000696</td>\n",
              "      <td>5.697093</td>\n",
              "    </tr>\n",
              "    <tr>\n",
              "      <th>71049</th>\n",
              "      <td>1.0</td>\n",
              "      <td>0.2</td>\n",
              "      <td>0.0</td>\n",
              "      <td>0.133333</td>\n",
              "      <td>0.391304</td>\n",
              "      <td>0.833333</td>\n",
              "      <td>0.133333</td>\n",
              "      <td>0.391304</td>\n",
              "      <td>0.833333</td>\n",
              "      <td>0.001610</td>\n",
              "      <td>6.786717</td>\n",
              "    </tr>\n",
              "    <tr>\n",
              "      <th>189296</th>\n",
              "      <td>1.0</td>\n",
              "      <td>0.0</td>\n",
              "      <td>0.0</td>\n",
              "      <td>0.633333</td>\n",
              "      <td>0.434783</td>\n",
              "      <td>0.333333</td>\n",
              "      <td>0.633333</td>\n",
              "      <td>0.434783</td>\n",
              "      <td>0.333333</td>\n",
              "      <td>0.003725</td>\n",
              "      <td>7.856707</td>\n",
              "    </tr>\n",
              "  </tbody>\n",
              "</table>\n",
              "</div>"
            ],
            "text/plain": [
              "        vendor_id  passenger_count  ...  distance  trip_duration_log\n",
              "377868        0.0              0.0  ...  0.000696           5.697093\n",
              "71049         1.0              0.2  ...  0.001610           6.786717\n",
              "189296        1.0              0.0  ...  0.003725           7.856707\n",
              "\n",
              "[3 rows x 11 columns]"
            ]
          },
          "metadata": {},
          "execution_count": 47
        }
      ]
    },
    {
      "cell_type": "code",
      "metadata": {
        "colab": {
          "base_uri": "https://localhost:8080/",
          "height": 162
        },
        "id": "77c6-1ZoA2oT",
        "outputId": "aa7a194d-7134-4842-d6f6-e45afd6fd647"
      },
      "source": [
        "benchmark_test.head(3)"
      ],
      "execution_count": null,
      "outputs": [
        {
          "output_type": "execute_result",
          "data": {
            "text/html": [
              "<div>\n",
              "<style scoped>\n",
              "    .dataframe tbody tr th:only-of-type {\n",
              "        vertical-align: middle;\n",
              "    }\n",
              "\n",
              "    .dataframe tbody tr th {\n",
              "        vertical-align: top;\n",
              "    }\n",
              "\n",
              "    .dataframe thead th {\n",
              "        text-align: right;\n",
              "    }\n",
              "</style>\n",
              "<table border=\"1\" class=\"dataframe\">\n",
              "  <thead>\n",
              "    <tr style=\"text-align: right;\">\n",
              "      <th></th>\n",
              "      <th>vendor_id</th>\n",
              "      <th>passenger_count</th>\n",
              "      <th>store_and_fwd_flag_encoded</th>\n",
              "      <th>pickup_day</th>\n",
              "      <th>pickup_hour</th>\n",
              "      <th>pickup_weekday</th>\n",
              "      <th>dropoff_day</th>\n",
              "      <th>dropoff_hour</th>\n",
              "      <th>dropoff_weekday</th>\n",
              "      <th>distance</th>\n",
              "      <th>trip_duration_log</th>\n",
              "    </tr>\n",
              "  </thead>\n",
              "  <tbody>\n",
              "    <tr>\n",
              "      <th>76711</th>\n",
              "      <td>0.0</td>\n",
              "      <td>0.0</td>\n",
              "      <td>0.0</td>\n",
              "      <td>0.566667</td>\n",
              "      <td>0.869565</td>\n",
              "      <td>0.000000</td>\n",
              "      <td>0.566667</td>\n",
              "      <td>0.869565</td>\n",
              "      <td>0.000000</td>\n",
              "      <td>0.003029</td>\n",
              "      <td>8.104401</td>\n",
              "    </tr>\n",
              "    <tr>\n",
              "      <th>293155</th>\n",
              "      <td>0.0</td>\n",
              "      <td>0.2</td>\n",
              "      <td>0.0</td>\n",
              "      <td>0.533333</td>\n",
              "      <td>0.739130</td>\n",
              "      <td>1.000000</td>\n",
              "      <td>0.533333</td>\n",
              "      <td>0.739130</td>\n",
              "      <td>1.000000</td>\n",
              "      <td>0.001234</td>\n",
              "      <td>6.774224</td>\n",
              "    </tr>\n",
              "    <tr>\n",
              "      <th>223830</th>\n",
              "      <td>1.0</td>\n",
              "      <td>0.0</td>\n",
              "      <td>0.0</td>\n",
              "      <td>0.366667</td>\n",
              "      <td>1.000000</td>\n",
              "      <td>0.666667</td>\n",
              "      <td>0.366667</td>\n",
              "      <td>1.000000</td>\n",
              "      <td>0.666667</td>\n",
              "      <td>0.001090</td>\n",
              "      <td>5.068904</td>\n",
              "    </tr>\n",
              "  </tbody>\n",
              "</table>\n",
              "</div>"
            ],
            "text/plain": [
              "        vendor_id  passenger_count  ...  distance  trip_duration_log\n",
              "76711         0.0              0.0  ...  0.003029           8.104401\n",
              "293155        0.0              0.2  ...  0.001234           6.774224\n",
              "223830        1.0              0.0  ...  0.001090           5.068904\n",
              "\n",
              "[3 rows x 11 columns]"
            ]
          },
          "metadata": {},
          "execution_count": 48
        }
      ]
    },
    {
      "cell_type": "code",
      "metadata": {
        "id": "1Y7HXMWyA2lB"
      },
      "source": [
        "# the predicted value here is substituted with the mean of target\"\n",
        "\n",
        "benchmark_test['simple_mean'] = benchmark_train['trip_duration_log'].mean()"
      ],
      "execution_count": null,
      "outputs": []
    },
    {
      "cell_type": "code",
      "metadata": {
        "colab": {
          "base_uri": "https://localhost:8080/"
        },
        "id": "GOTjIHdbBd7F",
        "outputId": "bf322797-90b6-4143-baa0-1f48659c3b92"
      },
      "source": [
        "# error in simple mean model\n",
        "\n",
        "error = sqrt(mean_squared_error(benchmark_test['trip_duration_log'], benchmark_test['simple_mean']))\n",
        "\n",
        "print(\"r-squared score of simple mean model: \", error)"
      ],
      "execution_count": null,
      "outputs": [
        {
          "output_type": "stream",
          "name": "stdout",
          "text": [
            "r-squared score of simple mean model:  0.7978477147493098\n"
          ]
        }
      ]
    },
    {
      "cell_type": "markdown",
      "metadata": {
        "id": "Lwp1PlrYzt1m"
      },
      "source": [
        "### K-NN model"
      ]
    },
    {
      "cell_type": "code",
      "metadata": {
        "id": "1K5JsiSrHSdF",
        "colab": {
          "base_uri": "https://localhost:8080/"
        },
        "outputId": "52304ea0-7eec-4bf3-9b0a-f7f28ad7f763"
      },
      "source": [
        "knnr = KNeighborsRegressor(n_neighbors=5)\n",
        "knnr.fit(X_train, y_train)"
      ],
      "execution_count": null,
      "outputs": [
        {
          "output_type": "execute_result",
          "data": {
            "text/plain": [
              "KNeighborsRegressor(algorithm='auto', leaf_size=30, metric='minkowski',\n",
              "                    metric_params=None, n_jobs=None, n_neighbors=5, p=2,\n",
              "                    weights='uniform')"
            ]
          },
          "metadata": {},
          "execution_count": 51
        }
      ]
    },
    {
      "cell_type": "code",
      "metadata": {
        "colab": {
          "base_uri": "https://localhost:8080/"
        },
        "id": "peoH-SB1FptU",
        "outputId": "b78ac30d-654f-4cfc-f72d-ba43aa7573cf"
      },
      "source": [
        "y_pred = knnr.predict(X_test)\n",
        "\n",
        "error = sqrt(mean_squared_error(y_test, y_pred))\n",
        "\n",
        "print(\"RMSE of knn model: \", error)"
      ],
      "execution_count": null,
      "outputs": [
        {
          "output_type": "stream",
          "name": "stdout",
          "text": [
            "RMSE of knn model:  0.5661099654854879\n"
          ]
        }
      ]
    },
    {
      "cell_type": "markdown",
      "metadata": {
        "id": "6UiYHO9jDQb6"
      },
      "source": [
        "**Elbow curve to determine the best value of k**"
      ]
    },
    {
      "cell_type": "code",
      "metadata": {
        "id": "V1P8AA6rB8c0"
      },
      "source": [
        "def elbow(k):\n",
        "  test = []\n",
        "\n",
        "  for i in k:\n",
        "    reg = KNeighborsRegressor(n_neighbors=i)\n",
        "    reg.fit(X_train, y_train)\n",
        "\n",
        "    tmp_pred = reg.predict(X_test)\n",
        "    temp_error = sqrt(mean_squared_error(tmp_pred, y_test))\n",
        "    test.append(temp_error)\n",
        "\n",
        "  return test"
      ],
      "execution_count": null,
      "outputs": []
    },
    {
      "cell_type": "code",
      "metadata": {
        "id": "TK3rLTaUDMgk"
      },
      "source": [
        "k = range(1, 10)"
      ],
      "execution_count": null,
      "outputs": []
    },
    {
      "cell_type": "code",
      "metadata": {
        "id": "8PJeH4uwWibP"
      },
      "source": [
        "test = elbow(k)"
      ],
      "execution_count": null,
      "outputs": []
    },
    {
      "cell_type": "code",
      "metadata": {
        "colab": {
          "base_uri": "https://localhost:8080/",
          "height": 312
        },
        "id": "-w5S3AG_DORu",
        "outputId": "db01237a-f880-4a49-9e14-decdfe24d780"
      },
      "source": [
        "# plotting the curve\n",
        "\n",
        "plt.plot(k, test)\n",
        "plt.xlabel('K Neighbors')\n",
        "plt.ylabel('RMSE')\n",
        "plt.title('Elbow curve for test')"
      ],
      "execution_count": null,
      "outputs": [
        {
          "output_type": "execute_result",
          "data": {
            "text/plain": [
              "Text(0.5, 1.0, 'Elbow curve for test')"
            ]
          },
          "metadata": {},
          "execution_count": 58
        },
        {
          "output_type": "display_data",
          "data": {
            "image/png": "[encoded data removed]",
            "text/plain": [
              "<Figure size 432x288 with 1 Axes>"
            ]
          },
          "metadata": {
            "needs_background": "light"
          }
        }
      ]
    },
    {
      "cell_type": "markdown",
      "metadata": {
        "id": "nXgle9r71-J8"
      },
      "source": [
        "So, the lowest error occurs when k = 4"
      ]
    },
    {
      "cell_type": "code",
      "metadata": {
        "colab": {
          "base_uri": "https://localhost:8080/"
        },
        "id": "yJlXt5TQ2HDE",
        "outputId": "b06a76f1-e822-49d7-f69c-33f685b405b5"
      },
      "source": [
        "# re-checking the error after changing n_neighbors to 4\n",
        "\n",
        "knnr = KNeighborsRegressor(n_neighbors=4)\n",
        "knnr.fit(X_train, y_train)"
      ],
      "execution_count": null,
      "outputs": [
        {
          "output_type": "stream",
          "name": "stdout",
          "text": [
            "RMSE of knn model:  0.5627957797547175\n"
          ]
        }
      ]
    },
    {
      "cell_type": "markdown",
      "metadata": {
        "id": "jqJvKQVr38li"
      },
      "source": [
        "test score"
      ]
    },
    {
      "cell_type": "code",
      "metadata": {
        "colab": {
          "base_uri": "https://localhost:8080/"
        },
        "id": "Ju5Xwcn49Rf9",
        "outputId": "431f0edb-930b-46b5-a0df-9d58a2368a30"
      },
      "source": [
        "y_pred = knnr.predict(X_test)\n",
        "\n",
        "knn_test_rmse = sqrt(mean_squared_error(y_test, y_pred))\n",
        "\n",
        "print(\"RMSE of knn model: \", knn_test_rmse)"
      ],
      "execution_count": null,
      "outputs": [
        {
          "output_type": "stream",
          "name": "stdout",
          "text": [
            "RMSE of knn model:  0.5627957797547175\n"
          ]
        }
      ]
    },
    {
      "cell_type": "markdown",
      "metadata": {
        "id": "LCaU61qw3_ET"
      },
      "source": [
        "train score"
      ]
    },
    {
      "cell_type": "code",
      "metadata": {
        "colab": {
          "base_uri": "https://localhost:8080/"
        },
        "id": "28hFuXla4BI8",
        "outputId": "62e0c753-b0aa-4ac1-f43b-210835e183d9"
      },
      "source": [
        "y_pred = knnr.predict(X_train)\n",
        "\n",
        "knn_train_rmse = sqrt(mean_squared_error(y_train, y_pred))\n",
        "\n",
        "print(\"RMSE of knn model: \", knn_train_rmse)"
      ],
      "execution_count": null,
      "outputs": [
        {
          "output_type": "stream",
          "name": "stdout",
          "text": [
            "RMSE of knn model:  0.4225747103603383\n"
          ]
        }
      ]
    },
    {
      "cell_type": "markdown",
      "metadata": {
        "id": "bL1EpvrSu-sa"
      },
      "source": [
        "### linear model"
      ]
    },
    {
      "cell_type": "code",
      "metadata": {
        "colab": {
          "base_uri": "https://localhost:8080/"
        },
        "id": "7xPo9m7EOKGT",
        "outputId": "1aa395f2-4a9e-42a8-d4b1-8438667ed8f4"
      },
      "source": [
        "lr = LinearRegression()\n",
        "lr.fit(X_train, y_train)"
      ],
      "execution_count": null,
      "outputs": [
        {
          "output_type": "execute_result",
          "data": {
            "text/plain": [
              "LinearRegression(copy_X=True, fit_intercept=True, n_jobs=None, normalize=False)"
            ]
          },
          "metadata": {},
          "execution_count": 63
        }
      ]
    },
    {
      "cell_type": "markdown",
      "metadata": {
        "id": "-OxK0Sa143jx"
      },
      "source": [
        "test score"
      ]
    },
    {
      "cell_type": "code",
      "metadata": {
        "colab": {
          "base_uri": "https://localhost:8080/"
        },
        "id": "2OJr7M5oM6qn",
        "outputId": "497fc82d-4353-4162-8f30-ad69418844df"
      },
      "source": [
        "y_pred = lr.predict(X_test)\n",
        "\n",
        "lm_test_rmse = sqrt(mean_squared_error(y_test, y_pred))\n",
        "print(\"RMSE of linear regressor model: \", lm_test_rmse)"
      ],
      "execution_count": null,
      "outputs": [
        {
          "output_type": "stream",
          "name": "stdout",
          "text": [
            "RMSE of linear regressor model:  0.6340940147050883\n"
          ]
        }
      ]
    },
    {
      "cell_type": "markdown",
      "metadata": {
        "id": "ZziKiKTd4nRI"
      },
      "source": [
        "train score"
      ]
    },
    {
      "cell_type": "code",
      "metadata": {
        "colab": {
          "base_uri": "https://localhost:8080/"
        },
        "id": "xKxOFUdD4pq0",
        "outputId": "4c542cf1-1516-4c5d-d2ff-0f9e42710586"
      },
      "source": [
        "y_pred = lr.predict(X_train)\n",
        "\n",
        "lm_train_rmse = sqrt(mean_squared_error(y_train, y_pred))\n",
        "\n",
        "print(\"RMSE of linear regressor model: \", lm_train_rmse)"
      ],
      "execution_count": null,
      "outputs": [
        {
          "output_type": "stream",
          "name": "stdout",
          "text": [
            "RMSE of linear regressor model:  0.6594541143088032\n"
          ]
        }
      ]
    },
    {
      "cell_type": "markdown",
      "metadata": {
        "id": "4Cl9-joUzXl-"
      },
      "source": [
        "### Decision tree model"
      ]
    },
    {
      "cell_type": "code",
      "metadata": {
        "id": "xxKI5S6_zWTz",
        "colab": {
          "base_uri": "https://localhost:8080/"
        },
        "outputId": "08f0f8a8-7873-4170-abda-9964f5814e01"
      },
      "source": [
        "dtr = DecisionTreeRegressor(random_state=42)\n",
        "dtr.fit(X_train, y_train)"
      ],
      "execution_count": null,
      "outputs": [
        {
          "output_type": "execute_result",
          "data": {
            "text/plain": [
              "DecisionTreeRegressor(ccp_alpha=0.0, criterion='mse', max_depth=None,\n",
              "                      max_features=None, max_leaf_nodes=None,\n",
              "                      min_impurity_decrease=0.0, min_impurity_split=None,\n",
              "                      min_samples_leaf=1, min_samples_split=2,\n",
              "                      min_weight_fraction_leaf=0.0, presort='deprecated',\n",
              "                      random_state=42, splitter='best')"
            ]
          },
          "metadata": {},
          "execution_count": 66
        }
      ]
    },
    {
      "cell_type": "markdown",
      "metadata": {
        "id": "2g0nc5Ra46_j"
      },
      "source": [
        "test score"
      ]
    },
    {
      "cell_type": "code",
      "metadata": {
        "id": "wKDPbqvTB98c",
        "colab": {
          "base_uri": "https://localhost:8080/"
        },
        "outputId": "32f48aee-e2c5-45a7-d888-581cea9568ec"
      },
      "source": [
        "y_pred = dtr.predict(X_test)\n",
        "\n",
        "dtr_test_rmse = sqrt(mean_squared_error(y_test, y_pred))\n",
        "print(\"RMSE of decision tree regressor model: \", dtr_test_rmse)"
      ],
      "execution_count": null,
      "outputs": [
        {
          "output_type": "stream",
          "name": "stdout",
          "text": [
            "RMSE of decision tree regressor model:  0.6231338599769973\n"
          ]
        }
      ]
    },
    {
      "cell_type": "markdown",
      "metadata": {
        "id": "kOb-ZonQ4tDv"
      },
      "source": [
        "train score"
      ]
    },
    {
      "cell_type": "code",
      "metadata": {
        "colab": {
          "base_uri": "https://localhost:8080/"
        },
        "id": "kxi9e69B4ubm",
        "outputId": "157e6c65-574e-47ce-96ef-686dc1d9e5e4"
      },
      "source": [
        "y_pred = dtr.predict(X_train)\n",
        "\n",
        "dtr_train_rmse = sqrt(mean_squared_error(y_train, y_pred))\n",
        "\n",
        "print(\"RMSE of decision tree regressor model: \", dtr_train_rmse)"
      ],
      "execution_count": null,
      "outputs": [
        {
          "output_type": "stream",
          "name": "stdout",
          "text": [
            "RMSE of decision tree regressor model:  0.02951876224361523\n"
          ]
        }
      ]
    },
    {
      "cell_type": "markdown",
      "metadata": {
        "id": "k0hC9qTY3H2e"
      },
      "source": [
        "\n",
        "\n",
        "<table>\n",
        "  <tr>\n",
        "    <th>Model</th>\n",
        "    <th>Train score</th>\n",
        "    <th>Test score</th>\n",
        "  </tr>\n",
        "  <tr>\n",
        "    <td>K-Nearest Neighbors</td>\n",
        "    <td>0.422</td>\n",
        "    <td>0.562</td>\n",
        "  </tr>\n",
        "  <tr>\n",
        "    <td>Linear Regressor</td>\n",
        "    <td>0.659</td>\n",
        "    <td>0.634</td>\n",
        "  </tr>\n",
        "  <tr>\n",
        "    <td>Decision Tree Regressor</td>\n",
        "    <td>0.029</td>\n",
        "    <td>0.623</td>\n",
        "  </tr>\n",
        "</table>\n"
      ]
    },
    {
      "cell_type": "code",
      "metadata": {
        "colab": {
          "base_uri": "https://localhost:8080/",
          "height": 350
        },
        "id": "GW-df1lU57_T",
        "outputId": "b925d884-c773-4f92-dd6d-be8e4b5cd686"
      },
      "source": [
        "# Declaring the figure or the plot (y, x) or (width, height)\n",
        "plt.figure(figsize=[10, 5])\n",
        "\n",
        "train_scores = [0.422, 0.659, 0.029]\n",
        "test_scores = [0.562, 0.634, 0.623]\n",
        "\n",
        "# Passing the parameters to the bar function\n",
        "# Using X now to align the bars side by side\n",
        "X = np.arange(len(train_scores))\n",
        "\n",
        "\n",
        "# Passing the parameters to the bar function, this is the main function which creates the bar plot\n",
        "# Using X now to align the bars side by side\n",
        "plt.bar(X, train_scores, color = 'r', width = 0.25)\n",
        "plt.bar(X + 0.25, test_scores, color = 'b', width = 0.25)\n",
        "\n",
        "# Creating the legend of the bars in the plot\n",
        "plt.legend(['Train Score', 'Test Score'])\n",
        "\n",
        "labels = ['KNN Model', 'Linear Model', 'Decision Tree Model']\n",
        "\n",
        "# Overiding the x axis with the country names\n",
        "plt.xticks([i + 0.25 for i in range(3)], labels)\n",
        "\n",
        "# Giving the tilte for the plot\n",
        "plt.title(\"Bar plot representing the train score and test RMSE score of each model\")\n",
        "# Namimg the x and y axis\n",
        "plt.xlabel('RMSE score')\n",
        "plt.ylabel('Models')\n",
        "\n",
        "\n",
        "# Displaying the bar plot\n",
        "plt.show()"
      ],
      "execution_count": null,
      "outputs": [
        {
          "output_type": "display_data",
          "data": {
            "image/png": "[encoded data removed]",
            "text/plain": [
              "<Figure size 720x360 with 1 Axes>"
            ]
          },
          "metadata": {
            "needs_background": "light"
          }
        }
      ]
    }
  ]
}