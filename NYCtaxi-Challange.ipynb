{
 "cells": [
  {
   "cell_type": "markdown",
   "id": "a2b420fa",
   "metadata": {},
   "source": [
    "When we are given 10 hours to build a model,we will work 6 hours to build the dataset ~dataScientist"
   ]
  },
  {
   "cell_type": "markdown",
   "id": "9a05300d",
   "metadata": {},
   "source": [
    "UnderStand the dataset by\n",
    "\n",
    "    check for null/missing values and replace\n",
    "    check for outliers\n",
    "    \n",
    "and perform your analysis further"
   ]
  },
  {
   "cell_type": "markdown",
   "id": "add8e884",
   "metadata": {},
   "source": [
    "Importing all the nessecary packages for work"
   ]
  },
  {
   "cell_type": "code",
   "execution_count": 16,
   "id": "b740e806",
   "metadata": {},
   "outputs": [],
   "source": [
    "import pandas as pd\n",
    "import seaborn as sns\n",
    "import numpy as np\n",
    "import matplotlib.pyplot as plt\n",
    "import warnings\n",
    "warnings.filterwarnings('ignore')\n"
   ]
  },
  {
   "cell_type": "markdown",
   "id": "62e53d9e",
   "metadata": {},
   "source": [
    "Analysing given dataset"
   ]
  },
  {
   "cell_type": "code",
   "execution_count": 17,
   "id": "48fdfb48",
   "metadata": {},
   "outputs": [],
   "source": [
    "#Reading the dataSet using panda\n",
    "data = pd.read_csv(\"/Users/harikrishnareddy/Desktop/nyc_taxi_trip_duration Dataset.csv\")"
   ]
  },
  {
   "cell_type": "code",
   "execution_count": 18,
   "id": "80b6aa36",
   "metadata": {},
   "outputs": [
    {
     "name": "stdout",
     "output_type": "stream",
     "text": [
      "(729322, 11)\n",
      "In the given dataSet the No.of rows are 729322 & columns are 11\n"
     ]
    }
   ],
   "source": [
    "#lets see what we got in here like shape,types and look for any null values or duplicates in dataSet\n",
    "print(data.shape)\n",
    "print(f'In the given dataSet the No.of rows are {data.shape[0]} & columns are {data.shape[1]}')"
   ]
  },
  {
   "cell_type": "code",
   "execution_count": 19,
   "id": "5a169050",
   "metadata": {},
   "outputs": [
    {
     "name": "stdout",
     "output_type": "stream",
     "text": [
      "id                     object\n",
      "vendor_id               int64\n",
      "pickup_datetime        object\n",
      "dropoff_datetime       object\n",
      "passenger_count         int64\n",
      "pickup_longitude      float64\n",
      "pickup_latitude       float64\n",
      "dropoff_longitude     float64\n",
      "dropoff_latitude      float64\n",
      "store_and_fwd_flag     object\n",
      "trip_duration           int64\n",
      "dtype: object\n"
     ]
    }
   ],
   "source": [
    "print(data.dtypes)"
   ]
  },
  {
   "cell_type": "markdown",
   "id": "41fcd7da",
   "metadata": {},
   "source": [
    "id - a unique identifier for each trip\n",
    "\n",
    "vendor_id - a code indicating the provider associated with the trip record\n",
    "\n",
    "pickup_datetime - date and time when the meter was engaged\n",
    "\n",
    "dropoff_datetime - date and time when the meter was disengaged\n",
    "\n",
    "passenger_count - the number of passengers in the vehicle (driver entered value)\n",
    "\n",
    "pickup_longitude - the longitude where the meter was engaged\n",
    "\n",
    "pickup_latitude - the latitude where the meter was engaged\n",
    "\n",
    "dropoff_longitude - the longitude where the meter was disengaged\n",
    "\n",
    "dropoff_latitude - the latitude where the meter was disengaged\n",
    "\n",
    "store_and_fwd_flag - This flag indicates whether the trip record was held in vehicle memory before sending to the vendor because the vehicle did not have a connection to the server (Y=store and forward; N=not a store and forward trip)\n",
    "\n",
    "trip_duration - (target) duration of the trip in seconds"
   ]
  },
  {
   "cell_type": "code",
   "execution_count": 20,
   "id": "ce456613",
   "metadata": {},
   "outputs": [
    {
     "name": "stdout",
     "output_type": "stream",
     "text": [
      "The number of null values in each column\n",
      " id                    0\n",
      "vendor_id             0\n",
      "pickup_datetime       0\n",
      "dropoff_datetime      0\n",
      "passenger_count       0\n",
      "pickup_longitude      0\n",
      "pickup_latitude       0\n",
      "dropoff_longitude     0\n",
      "dropoff_latitude      0\n",
      "store_and_fwd_flag    0\n",
      "trip_duration         0\n",
      "dtype: int64\n"
     ]
    }
   ],
   "source": [
    "print(\"The number of null values in each column\\n\",data.isnull().sum())"
   ]
  },
  {
   "cell_type": "markdown",
   "id": "affd746d",
   "metadata": {},
   "source": [
    "As we can see from the dtypes we should change the few given types\n",
    "\n",
    "    pickup_datetime,dropoff_datetime are  objects converting to datetime\n",
    "\n",
    "this will help to predict the data more accurate"
   ]
  },
  {
   "cell_type": "code",
   "execution_count": 21,
   "id": "60128e27",
   "metadata": {},
   "outputs": [
    {
     "data": {
      "text/plain": [
       "pickup_datetime     datetime64[ns]\n",
       "dropoff_datetime    datetime64[ns]\n",
       "dtype: object"
      ]
     },
     "execution_count": 21,
     "metadata": {},
     "output_type": "execute_result"
    }
   ],
   "source": [
    "data['pickup_datetime'] = pd.to_datetime(data.pickup_datetime)\n",
    "data['dropoff_datetime'] = pd.to_datetime(data.dropoff_datetime)\n",
    "data[['pickup_datetime','dropoff_datetime']].dtypes"
   ]
  },
  {
   "cell_type": "code",
   "execution_count": 22,
   "id": "f4db41a0",
   "metadata": {},
   "outputs": [
    {
     "data": {
      "text/plain": [
       "N    725282\n",
       "Y      4040\n",
       "Name: store_and_fwd_flag, dtype: int64"
      ]
     },
     "execution_count": 22,
     "metadata": {},
     "output_type": "execute_result"
    }
   ],
   "source": [
    "data['store_and_fwd_flag'].value_counts()"
   ]
  },
  {
   "cell_type": "markdown",
   "id": "98dca0f9",
   "metadata": {},
   "source": [
    "we shall plot the graph of all the continous variables"
   ]
  },
  {
   "cell_type": "code",
   "execution_count": 23,
   "id": "5738b4bf",
   "metadata": {},
   "outputs": [
    {
     "name": "stdout",
     "output_type": "stream",
     "text": [
      "count    7.293220e+05\n",
      "mean     9.522291e+02\n",
      "std      3.864626e+03\n",
      "min      1.000000e+00\n",
      "25%      3.970000e+02\n",
      "50%      6.630000e+02\n",
      "75%      1.075000e+03\n",
      "max      1.939736e+06\n",
      "Name: trip_duration, dtype: float64 \n",
      "\n",
      "\n",
      " count    202.589444\n",
      "mean       0.264508\n",
      "std        1.073507\n",
      "min        0.000278\n",
      "25%        0.110278\n",
      "50%        0.184167\n",
      "75%        0.298611\n",
      "max      538.815556\n",
      "Name: trip_duration, dtype: float64\n"
     ]
    }
   ],
   "source": [
    "print(data['trip_duration'].describe(),\"\\n\")\n",
    "#If you remember the dataSet trip_duratoin is seconds so we will convert them seonds or hours by dividing it 3600(hours)\n",
    "print('\\n',data['trip_duration'].describe()/3600)"
   ]
  },
  {
   "cell_type": "markdown",
   "id": "fc13af5a",
   "metadata": {},
   "source": [
    "what 538 hours,this is our outlier in the given data for 'trip_duration'"
   ]
  },
  {
   "cell_type": "code",
   "execution_count": 24,
   "id": "69f511e1",
   "metadata": {},
   "outputs": [
    {
     "data": {
      "image/png": "[encoded data removed]",
      "text/plain": [
       "<Figure size 432x288 with 1 Axes>"
      ]
     },
     "metadata": {
      "needs_background": "light"
     },
     "output_type": "display_data"
    }
   ],
   "source": [
    "sns.distplot(data['trip_duration'])\n",
    "plt.show()"
   ]
  },
  {
   "cell_type": "markdown",
   "id": "369d8c3d",
   "metadata": {},
   "source": [
    "If this was in bell curve we could have analyzed but it not in that way,we can use \n",
    "\n",
    "     LOG Transform\n",
    "     When our original continuous data do not follow the bell curve(consits of outliers), we can log transform this data to make it as 'normal', so that our statistical analysis becomes more valid"
   ]
  },
  {
   "cell_type": "code",
   "execution_count": 25,
   "id": "87a3e278",
   "metadata": {},
   "outputs": [
    {
     "data": {
      "text/plain": [
       "<Figure size 1440x360 with 0 Axes>"
      ]
     },
     "execution_count": 25,
     "metadata": {},
     "output_type": "execute_result"
    },
    {
     "data": {
      "text/plain": [
       "<Figure size 1440x360 with 0 Axes>"
      ]
     },
     "metadata": {},
     "output_type": "display_data"
    }
   ],
   "source": [
    "plt.figure(figsize=(20, 5))"
   ]
  },
  {
   "cell_type": "code",
   "execution_count": 26,
   "id": "b212c3db",
   "metadata": {},
   "outputs": [
    {
     "data": {
      "image/png": "[encoded data removed]",
      "text/plain": [
       "<Figure size 432x288 with 1 Axes>"
      ]
     },
     "metadata": {
      "needs_background": "light"
     },
     "output_type": "display_data"
    },
    {
     "data": {
      "image/png": "[encoded data removed]",
      "text/plain": [
       "<Figure size 432x288 with 1 Axes>"
      ]
     },
     "metadata": {
      "needs_background": "light"
     },
     "output_type": "display_data"
    }
   ],
   "source": [
    "#using log\n",
    "data['tripLog'] = np.log(data['trip_duration'])\n",
    "plt.subplot(111)\n",
    "sns.distplot(data['tripLog'], kde = False, bins = 150)\n",
    "plt.show()\n",
    "\n",
    "#this may result in negative to avoid we will add 1 \n",
    "data['tripLog'] = np.log(data['trip_duration'].values+1)\n",
    "#plt.subplot(123)\n",
    "sns.distplot(data['tripLog'])\n",
    "plt.show()"
   ]
  },
  {
   "cell_type": "code",
   "execution_count": 38,
   "id": "43ac4a7a",
   "metadata": {},
   "outputs": [
    {
     "data": {
      "image/png": "[encoded data removed]",
      "text/plain": [
       "<Figure size 1440x720 with 1 Axes>"
      ]
     },
     "metadata": {
      "needs_background": "light"
     },
     "output_type": "display_data"
    },
    {
     "name": "stdout",
     "output_type": "stream",
     "text": [
      "vendor 2 has suplied more cabs\n"
     ]
    }
   ],
   "source": [
    "plt.figure(figsize=(20, 10))\n",
    "plt.subplot(222)\n",
    "sns.countplot(data['vendor_id'])\n",
    "plt.xlabel('vendor_id')\n",
    "plt.ylabel('Frequency')\n",
    "plt.show()\n",
    "print(\"vendor 2 has suplied more cabs\")"
   ]
  },
  {
   "cell_type": "code",
   "execution_count": 36,
   "id": "0c600006",
   "metadata": {},
   "outputs": [
    {
     "data": {
      "text/plain": [
       "Text(0, 0.5, 'Frequency')"
      ]
     },
     "execution_count": 36,
     "metadata": {},
     "output_type": "execute_result"
    },
    {
     "data": {
      "image/png": "[encoded data removed]",
      "text/plain": [
       "<Figure size 720x360 with 1 Axes>"
      ]
     },
     "metadata": {
      "needs_background": "light"
     },
     "output_type": "display_data"
    }
   ],
   "source": [
    "plt.figure(figsize=(10, 5))\n",
    "sns.countplot(data['store_and_fwd_flag'])\n",
    "plt.xlabel('store_and_fwd_flag')\n",
    "plt.ylabel('Frequency')"
   ]
  },
  {
   "cell_type": "markdown",
   "id": "29ab93d8",
   "metadata": {},
   "source": [
    "we shall find the corr between numerical columns"
   ]
  },
  {
   "cell_type": "code",
   "execution_count": 43,
   "id": "cacf9010",
   "metadata": {},
   "outputs": [
    {
     "data": {
      "text/html": [
       "<div>\n",
       "<style scoped>\n",
       "    .dataframe tbody tr th:only-of-type {\n",
       "        vertical-align: middle;\n",
       "    }\n",
       "\n",
       "    .dataframe tbody tr th {\n",
       "        vertical-align: top;\n",
       "    }\n",
       "\n",
       "    .dataframe thead th {\n",
       "        text-align: right;\n",
       "    }\n",
       "</style>\n",
       "<table border=\"1\" class=\"dataframe\">\n",
       "  <thead>\n",
       "    <tr style=\"text-align: right;\">\n",
       "      <th></th>\n",
       "      <th>vendor_id</th>\n",
       "      <th>passenger_count</th>\n",
       "      <th>pickup_longitude</th>\n",
       "      <th>pickup_latitude</th>\n",
       "      <th>dropoff_longitude</th>\n",
       "      <th>dropoff_latitude</th>\n",
       "      <th>trip_duration</th>\n",
       "      <th>tripLog</th>\n",
       "    </tr>\n",
       "  </thead>\n",
       "  <tbody>\n",
       "    <tr>\n",
       "      <th>vendor_id</th>\n",
       "      <td>1.000000</td>\n",
       "      <td>0.286463</td>\n",
       "      <td>0.008198</td>\n",
       "      <td>0.002861</td>\n",
       "      <td>0.002371</td>\n",
       "      <td>0.005259</td>\n",
       "      <td>0.027752</td>\n",
       "      <td>0.019439</td>\n",
       "    </tr>\n",
       "    <tr>\n",
       "      <th>passenger_count</th>\n",
       "      <td>0.286463</td>\n",
       "      <td>1.000000</td>\n",
       "      <td>0.001163</td>\n",
       "      <td>-0.004696</td>\n",
       "      <td>-0.000027</td>\n",
       "      <td>-0.003944</td>\n",
       "      <td>0.013022</td>\n",
       "      <td>0.020749</td>\n",
       "    </tr>\n",
       "    <tr>\n",
       "      <th>pickup_longitude</th>\n",
       "      <td>0.008198</td>\n",
       "      <td>0.001163</td>\n",
       "      <td>1.000000</td>\n",
       "      <td>0.047635</td>\n",
       "      <td>0.780647</td>\n",
       "      <td>0.118473</td>\n",
       "      <td>0.035447</td>\n",
       "      <td>0.112302</td>\n",
       "    </tr>\n",
       "    <tr>\n",
       "      <th>pickup_latitude</th>\n",
       "      <td>0.002861</td>\n",
       "      <td>-0.004696</td>\n",
       "      <td>0.047635</td>\n",
       "      <td>1.000000</td>\n",
       "      <td>0.119970</td>\n",
       "      <td>0.479352</td>\n",
       "      <td>-0.038163</td>\n",
       "      <td>-0.142551</td>\n",
       "    </tr>\n",
       "    <tr>\n",
       "      <th>dropoff_longitude</th>\n",
       "      <td>0.002371</td>\n",
       "      <td>-0.000027</td>\n",
       "      <td>0.780647</td>\n",
       "      <td>0.119970</td>\n",
       "      <td>1.000000</td>\n",
       "      <td>0.149598</td>\n",
       "      <td>0.020664</td>\n",
       "      <td>0.072944</td>\n",
       "    </tr>\n",
       "    <tr>\n",
       "      <th>dropoff_latitude</th>\n",
       "      <td>0.005259</td>\n",
       "      <td>-0.003944</td>\n",
       "      <td>0.118473</td>\n",
       "      <td>0.479352</td>\n",
       "      <td>0.149598</td>\n",
       "      <td>1.000000</td>\n",
       "      <td>-0.028283</td>\n",
       "      <td>-0.124989</td>\n",
       "    </tr>\n",
       "    <tr>\n",
       "      <th>trip_duration</th>\n",
       "      <td>0.027752</td>\n",
       "      <td>0.013022</td>\n",
       "      <td>0.035447</td>\n",
       "      <td>-0.038163</td>\n",
       "      <td>0.020664</td>\n",
       "      <td>-0.028283</td>\n",
       "      <td>1.000000</td>\n",
       "      <td>0.327624</td>\n",
       "    </tr>\n",
       "    <tr>\n",
       "      <th>tripLog</th>\n",
       "      <td>0.019439</td>\n",
       "      <td>0.020749</td>\n",
       "      <td>0.112302</td>\n",
       "      <td>-0.142551</td>\n",
       "      <td>0.072944</td>\n",
       "      <td>-0.124989</td>\n",
       "      <td>0.327624</td>\n",
       "      <td>1.000000</td>\n",
       "    </tr>\n",
       "  </tbody>\n",
       "</table>\n",
       "</div>"
      ],
      "text/plain": [
       "                   vendor_id  passenger_count  pickup_longitude  \\\n",
       "vendor_id           1.000000         0.286463          0.008198   \n",
       "passenger_count     0.286463         1.000000          0.001163   \n",
       "pickup_longitude    0.008198         0.001163          1.000000   \n",
       "pickup_latitude     0.002861        -0.004696          0.047635   \n",
       "dropoff_longitude   0.002371        -0.000027          0.780647   \n",
       "dropoff_latitude    0.005259        -0.003944          0.118473   \n",
       "trip_duration       0.027752         0.013022          0.035447   \n",
       "tripLog             0.019439         0.020749          0.112302   \n",
       "\n",
       "                   pickup_latitude  dropoff_longitude  dropoff_latitude  \\\n",
       "vendor_id                 0.002861           0.002371          0.005259   \n",
       "passenger_count          -0.004696          -0.000027         -0.003944   \n",
       "pickup_longitude          0.047635           0.780647          0.118473   \n",
       "pickup_latitude           1.000000           0.119970          0.479352   \n",
       "dropoff_longitude         0.119970           1.000000          0.149598   \n",
       "dropoff_latitude          0.479352           0.149598          1.000000   \n",
       "trip_duration            -0.038163           0.020664         -0.028283   \n",
       "tripLog                  -0.142551           0.072944         -0.124989   \n",
       "\n",
       "                   trip_duration   tripLog  \n",
       "vendor_id               0.027752  0.019439  \n",
       "passenger_count         0.013022  0.020749  \n",
       "pickup_longitude        0.035447  0.112302  \n",
       "pickup_latitude        -0.038163 -0.142551  \n",
       "dropoff_longitude       0.020664  0.072944  \n",
       "dropoff_latitude       -0.028283 -0.124989  \n",
       "trip_duration           1.000000  0.327624  \n",
       "tripLog                 0.327624  1.000000  "
      ]
     },
     "execution_count": 43,
     "metadata": {},
     "output_type": "execute_result"
    }
   ],
   "source": [
    "data.corr()"
   ]
  },
  {
   "cell_type": "markdown",
   "id": "fc9153fd",
   "metadata": {},
   "source": [
    "We shall plot a map between all the values"
   ]
  },
  {
   "cell_type": "code",
   "execution_count": 52,
   "id": "45a99f23",
   "metadata": {},
   "outputs": [
    {
     "data": {
      "image/png": "[encoded data removed]",
      "text/plain": [
       "<Figure size 864x432 with 2 Axes>"
      ]
     },
     "metadata": {
      "needs_background": "light"
     },
     "output_type": "display_data"
    }
   ],
   "source": [
    "plt.figure(figsize=(12, 6))\n",
    "df1 = data.drop(['id','tripLog','store_and_fwd_flag','trip_duration'],\n",
    "        axis=1)\n",
    "ax = sns.heatmap(data.corr(), xticklabels=df1.columns, yticklabels=df1.columns, \n",
    "                 linewidths=.2)\n"
   ]
  },
  {
   "cell_type": "markdown",
   "id": "3fc809bd",
   "metadata": {},
   "source": [
    "As we have datatime type in our dataset we can do some analysis on them !"
   ]
  },
  {
   "cell_type": "code",
   "execution_count": 59,
   "id": "c46214c8",
   "metadata": {},
   "outputs": [
    {
     "data": {
      "text/plain": [
       "Text(0, 0.5, 'Total number of pickups')"
      ]
     },
     "execution_count": 59,
     "metadata": {},
     "output_type": "execute_result"
    },
    {
     "data": {
      "image/png": "[encoded data removed]",
      "text/plain": [
       "<Figure size 1440x360 with 2 Axes>"
      ]
     },
     "metadata": {
      "needs_background": "light"
     },
     "output_type": "display_data"
    }
   ],
   "source": [
    "#we should get data and time seperate from datetime.\n",
    "\n",
    "#geting the day in the week\n",
    "data['dw'] = data['pickup_datetime'].dt.weekday\n",
    "\n",
    "#getting the hour in the day\n",
    "data['hd'] = data['pickup_datetime'].dt.hour\n",
    "\n",
    "\n",
    "# Datetime features\n",
    "plt.figure(figsize=(20, 5))\n",
    "\n",
    "# Passenger Count\n",
    "plt.subplot(121)\n",
    "sns.countplot(data['dw'])\n",
    "plt.xlabel('Week Day')\n",
    "plt.ylabel('Total Number of pickups')\n",
    "\n",
    "# vendor_id\n",
    "plt.subplot(122)\n",
    "sns.countplot(data['hd'])\n",
    "plt.xlabel('Hour')\n",
    "plt.ylabel('Total number of pickups')"
   ]
  },
  {
   "cell_type": "markdown",
   "id": "f43caa35",
   "metadata": {},
   "source": [
    "Points :\n",
    "\n",
    "    0-Sunday.....6-Saturday\n",
    "Sunday and Saturday are having low trips when we compare with weekdays and also high on Thursday.And trips are high in evening hour in the day. 18th and 19th hours "
   ]
  },
  {
   "cell_type": "code",
   "execution_count": null,
   "id": "431cb7aa",
   "metadata": {},
   "outputs": [],
   "source": []
  }
 ],
 "metadata": {
  "kernelspec": {
   "display_name": "Python 3",
   "language": "python",
   "name": "python3"
  },
  "language_info": {
   "codemirror_mode": {
    "name": "ipython",
    "version": 3
   },
   "file_extension": ".py",
   "mimetype": "text/x-python",
   "name": "python",
   "nbconvert_exporter": "python",
   "pygments_lexer": "ipython3",
   "version": "3.8.8"
  }
 },
 "nbformat": 4,
 "nbformat_minor": 5
}
