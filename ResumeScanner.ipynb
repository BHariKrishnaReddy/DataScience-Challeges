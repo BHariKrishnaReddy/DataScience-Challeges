{
  "nbformat": 4,
  "nbformat_minor": 0,
  "metadata": {
    "colab": {
      "name": "ResumeScanner.ipynb",
      "provenance": [],
      "collapsed_sections": [],
      "authorship_tag": "ABX9TyPJnxKVuP+G5jusP2pk0/y3",
      "include_colab_link": true
    },
    "kernelspec": {
      "name": "python3",
      "display_name": "Python 3"
    },
    "language_info": {
      "name": "python"
    }
  },
  "cells": [
    {
      "cell_type": "markdown",
      "metadata": {
        "id": "view-in-github",
        "colab_type": "text"
      },
      "source": [
        "<a href=\"https://colab.research.google.com/github/BHariKrishnaReddy/DataScience-Challeges/blob/master/ResumeScanner.ipynb\" target=\"_parent\"><img src=\"https://colab.research.google.com/assets/colab-badge.svg\" alt=\"Open In Colab\"/></a>"
      ]
    },
    {
      "cell_type": "markdown",
      "source": [
        "#### Requriments"
      ],
      "metadata": {
        "id": "6SsKSH8RAKDW"
      }
    },
    {
      "cell_type": "code",
      "source": [
        "import docx2txt\n",
        "from sklearn.feature_extraction.text import CountVectorizer\n",
        "from sklearn.metrics.pairwise import cosine_similarity"
      ],
      "metadata": {
        "id": "N2uEnbImAKfO"
      },
      "execution_count": 31,
      "outputs": []
    },
    {
      "cell_type": "markdown",
      "source": [
        "##### docx2txt\n",
        "> Used to convert the files to txt format\n",
        "\n",
        "##### [CountVectorizer](https://scikit-learn.org/stable/modules/generated/sklearn.feature_extraction.text.CountVectorizer.html)\n",
        ">Converts text to vectors\n",
        "\n",
        "##### [Cosine_similarity](https://scikit-learn.org/stable/modules/generated/sklearn.metrics.pairwise.cosine_similarity.html)\n",
        ">measures the similarity between vector lists by calculating the cosine angle between the two vector lists\n"
      ],
      "metadata": {
        "id": "pL8Qs2y4tuc7"
      }
    },
    {
      "cell_type": "markdown",
      "source": [
        "#### Code"
      ],
      "metadata": {
        "id": "iBbsAPFdBeyw"
      }
    },
    {
      "cell_type": "markdown",
      "source": [
        "\n",
        "\n",
        "*   Instead of passing `text/string` as input, you can also pass the location of the directory at the inputs of `job_description` and `resume`\n",
        "\n",
        "\n",
        "\n",
        "\n"
      ],
      "metadata": {
        "id": "7nRz-KZWBo1U"
      }
    },
    {
      "cell_type": "code",
      "source": [
        "#https://python-docx.readthedocs.io/en/latest/#user-guide -> for info\n",
        "!pip install python-docx \n",
        "import docx "
      ],
      "metadata": {
        "id": "nNdDYY4_7Prw"
      },
      "execution_count": null,
      "outputs": []
    },
    {
      "cell_type": "code",
      "source": [
        "# create an instance of a word document\n",
        "doc = docx.Document()\n",
        "\n",
        "job_description = input(\"enter you Job Description here...\") \n",
        "doc_para = doc.add_paragraph(job_description)\n",
        "\n",
        "#save to a location\n",
        "doc.save('/content/jobdesp.docx')"
      ],
      "metadata": {
        "colab": {
          "base_uri": "https://localhost:8080/"
        },
        "id": "zK6plCSQ60gf",
        "outputId": "5196ff77-393f-44db-967a-4fd84ac9a197"
      },
      "execution_count": 23,
      "outputs": [
        {
          "name": "stdout",
          "output_type": "stream",
          "text": [
            "enter you job description here...Job Description About Accenture: Accenture is a global professional services company with leading capabilities in digital, cloud and security. Combining unmatched experience and specialized skills across more than 40 industries, we offer Strategy and Consulting, Interactive, Technology and Operations services-all powered by the world's largest network of Advanced Technology and Intelligent Operations centers. Our 624,000 people deliver on thepromise of technology and human ingenuity every day, serving clients in more than 120 countries.We embrace the power of change to create value and shared success for our clients, people, shareholders, partners and communities.   Project Role :Application Developer Project Role Description :Design, build and configure applications to meet business process and application requirements. Management Level :10 Work Experience :4-6 years Work location :Hyderabad Must Have Skills :Data Analytics and Interpretation Good To Have Skills :Data Science,Python Programming Language,Tableau Job Requirements :  Key Responsibilities : 1: Analyze the requirement, evaluate feasibility and propose implementation options 2 : Guide team members and resolve technical blockers 3:Collaborate and work with cross-functional team members to turn requirements into implementations 4: Contribute to functional specifications and technical designs 5: Participate in reviews of feature design and test plans 6: Application Maintenance, need to support PGLS 7: Understand the functional design and do necessary customizations  Technical Experience : 1 : Mandatory Skills: Python experience 2 : Must have experience in data science and data engineering 3: Good to have experience in Database Technologies, Angular JS, Kubernetes, Spark SQL, Scala 4: Python development expertise a must with Object Oriented Programming Model 5: Must have knowledge on popular Python frameworks 6 : Strong in SQL  Professional Attributes : 1: Excellent analytical and problem solving skills 2: Strong written and verbal communication skills 3: Should have Client facing quality and should work with client ASLs 4: Proven ability to work remotely and independently in support of clients and across multiple initiatives  Educational Qualification : Any graduate  Additional Information : Data analysts with Python experience and full stack experience would be ide\n"
          ]
        }
      ]
    },
    {
      "cell_type": "code",
      "source": [
        "doc = docx.Document()\n",
        "\n",
        "resume = input(\"enter you Resume here...\") \n",
        "doc_para = doc.add_paragraph(resume)\n",
        "\n",
        "#save to a location\n",
        "doc.save('/content/resume.docx')"
      ],
      "metadata": {
        "colab": {
          "base_uri": "https://localhost:8080/"
        },
        "id": "8XqQNymO_X42",
        "outputId": "5951cc84-96d9-4453-aeca-0dfb5862d40d"
      },
      "execution_count": 25,
      "outputs": [
        {
          "name": "stdout",
          "output_type": "stream",
          "text": [
            "Vikram XXXX Contact: 87**** E-mail: vikram*****@yahoo.com OBJECTIVE Willing to work in a challenging position with a growing Organization where I can utilize my technical and interpersonal skills to serve the organization and enhanced the same. TECHNICAL SKILLS Operating Systems: Win 98/ Win XP/ Win server 2003/win 7 Microsoft Technologies: .NET Framework 4.0/3.0/2.0, ASP.NET, C#.NET, ADO .NET, Web services Programming Languages: C++, C#.NET Web Technologies: HTML and Java Script, Editor and IDE: Microsoft Visual Studio 2005, 2008 & 2010 Databases: SQL Server 2000/2005/2008 Hardware: Fault debugging, major troubleshooting and installation of new hardware & software. PERSONAL QUALITIES Proficient in developing WEB application using C#.NET, ASP.NET, SQL Possess good analytical skills A quick learner. ACHIEVEMENT Won Debate competition for X consecutive years in school. Integrated an extremely complex system for the College. ACADEMIC QUALIFICATION MCA from University xyz(2008 -2011) having CGPA of 6.9 on a 10.0 scale B.Sc from University xyz with X%. ACADEMIC PROJECT UNDERTAKEN Project Name: XXXX Project duration: Jan 20XX to April 20XX Environment: C#.Net, ASP.Net and SQL server Team size: 5 Project Description: The main objective of the proposed solution is to be automated the various functions and activities of the bank through \n"
          ]
        }
      ]
    },
    {
      "cell_type": "code",
      "source": [
        "#job_description.\n",
        "jd = docx2txt.process('/content/jobdesp.docx') #use the location of the documnet from above"
      ],
      "metadata": {
        "id": "giqtQSrctkd5"
      },
      "execution_count": 24,
      "outputs": []
    },
    {
      "cell_type": "code",
      "source": [
        "#resume\n",
        "r = docx2txt.process('/content/resume.docx') #use the location of the resume from your local"
      ],
      "metadata": {
        "id": "fRWsy0E7-zft"
      },
      "execution_count": 26,
      "outputs": []
    },
    {
      "cell_type": "code",
      "source": [
        "content = [jd,r]"
      ],
      "metadata": {
        "id": "9oyagYrouoaV"
      },
      "execution_count": 27,
      "outputs": []
    },
    {
      "cell_type": "code",
      "source": [
        "cv = CountVectorizer()\n",
        "matrix = cv.fit_transform(content)"
      ],
      "metadata": {
        "id": "R0l1HVcyu1eh"
      },
      "execution_count": 28,
      "outputs": []
    },
    {
      "cell_type": "code",
      "source": [
        "similarty_matrix = cosine_similarity(matrix)"
      ],
      "metadata": {
        "id": "mLXPO5eIwbO4"
      },
      "execution_count": 29,
      "outputs": []
    },
    {
      "cell_type": "code",
      "source": [
        "print('Resume matched :'+str(similarty_matrix[1][0]))"
      ],
      "metadata": {
        "colab": {
          "base_uri": "https://localhost:8080/"
        },
        "id": "jLH9c8mcwkxg",
        "outputId": "1a5c092b-bfbf-40e5-ed42-fa1b9855c122"
      },
      "execution_count": 30,
      "outputs": [
        {
          "output_type": "stream",
          "name": "stdout",
          "text": [
            "Resume matched :0.44805348404943446\n"
          ]
        }
      ]
    }
  ]
}