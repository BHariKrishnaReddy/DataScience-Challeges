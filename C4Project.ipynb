{
 "cells": [
  {
   "cell_type": "markdown",
   "id": "b9b112d6",
   "metadata": {},
   "source": [
    "# Dimentionality Reduction"
   ]
  },
  {
   "cell_type": "markdown",
   "id": "8cd1b825",
   "metadata": {},
   "source": [
    "#### Problem statment\n",
    "A retail company wants - > customer purchase behaviour against various products of different categories."
   ]
  },
  {
   "cell_type": "code",
   "execution_count": 3,
   "id": "774f6ca5",
   "metadata": {},
   "outputs": [],
   "source": [
    "import pandas as pd\n",
    "import numpy as np\n",
    "import matplotlib.pyplot as plt\n",
    "from sklearn.preprocessing import LabelEncoder, StandardScaler\n",
    "import seaborn as sns\n",
    "from sklearn.decomposition import PCA"
   ]
  },
  {
   "cell_type": "code",
   "execution_count": 4,
   "id": "2d9204c4",
   "metadata": {},
   "outputs": [],
   "source": [
    "df = pd.read_csv(\"Dimentionality Reduction.csv\")"
   ]
  },
  {
   "cell_type": "markdown",
   "id": "3c18c3a3",
   "metadata": {},
   "source": [
    "#### To do Dimentionality Reduction, we should get familer with the dimensions/features in the dataset"
   ]
  },
  {
   "cell_type": "code",
   "execution_count": 5,
   "id": "e47836d6",
   "metadata": {},
   "outputs": [
    {
     "name": "stdout",
     "output_type": "stream",
     "text": [
      "No.of rows * Colmuns are  (550068, 12) \n",
      " \n",
      " The column names and their dtypes of the dataset are \n",
      "\n",
      " User_ID                         int64\n",
      "Product_ID                     object\n",
      "Gender                         object\n",
      "Age                            object\n",
      "Occupation                      int64\n",
      "City_Category                  object\n",
      "Stay_In_Current_City_Years     object\n",
      "Marital_Status                  int64\n",
      "Product_Category_1              int64\n",
      "Product_Category_2            float64\n",
      "Product_Category_3            float64\n",
      "Purchase                        int64\n",
      "dtype: object\n"
     ]
    }
   ],
   "source": [
    "print(\"No.of rows * Colmuns are \",df.shape,\"\\n\",\"\\n The column names and their dtypes of the dataset are \\n\\n\",df.dtypes)"
   ]
  },
  {
   "cell_type": "markdown",
   "id": "b1b86c23",
   "metadata": {},
   "source": [
    "Let us see the first 10 rows of the data...in the dataset"
   ]
  },
  {
   "cell_type": "code",
   "execution_count": 6,
   "id": "137d31c8",
   "metadata": {},
   "outputs": [
    {
     "data": {
      "text/html": [
       "<div>\n",
       "<style scoped>\n",
       "    .dataframe tbody tr th:only-of-type {\n",
       "        vertical-align: middle;\n",
       "    }\n",
       "\n",
       "    .dataframe tbody tr th {\n",
       "        vertical-align: top;\n",
       "    }\n",
       "\n",
       "    .dataframe thead th {\n",
       "        text-align: right;\n",
       "    }\n",
       "</style>\n",
       "<table border=\"1\" class=\"dataframe\">\n",
       "  <thead>\n",
       "    <tr style=\"text-align: right;\">\n",
       "      <th></th>\n",
       "      <th>User_ID</th>\n",
       "      <th>Product_ID</th>\n",
       "      <th>Gender</th>\n",
       "      <th>Age</th>\n",
       "      <th>Occupation</th>\n",
       "      <th>City_Category</th>\n",
       "      <th>Stay_In_Current_City_Years</th>\n",
       "      <th>Marital_Status</th>\n",
       "      <th>Product_Category_1</th>\n",
       "      <th>Product_Category_2</th>\n",
       "      <th>Product_Category_3</th>\n",
       "      <th>Purchase</th>\n",
       "    </tr>\n",
       "  </thead>\n",
       "  <tbody>\n",
       "    <tr>\n",
       "      <th>0</th>\n",
       "      <td>1000001</td>\n",
       "      <td>P00069042</td>\n",
       "      <td>F</td>\n",
       "      <td>0-17</td>\n",
       "      <td>10</td>\n",
       "      <td>A</td>\n",
       "      <td>2</td>\n",
       "      <td>0</td>\n",
       "      <td>3</td>\n",
       "      <td>NaN</td>\n",
       "      <td>NaN</td>\n",
       "      <td>8370</td>\n",
       "    </tr>\n",
       "    <tr>\n",
       "      <th>1</th>\n",
       "      <td>1000001</td>\n",
       "      <td>P00248942</td>\n",
       "      <td>F</td>\n",
       "      <td>0-17</td>\n",
       "      <td>10</td>\n",
       "      <td>A</td>\n",
       "      <td>2</td>\n",
       "      <td>0</td>\n",
       "      <td>1</td>\n",
       "      <td>6.0</td>\n",
       "      <td>14.0</td>\n",
       "      <td>15200</td>\n",
       "    </tr>\n",
       "    <tr>\n",
       "      <th>2</th>\n",
       "      <td>1000001</td>\n",
       "      <td>P00087842</td>\n",
       "      <td>F</td>\n",
       "      <td>0-17</td>\n",
       "      <td>10</td>\n",
       "      <td>A</td>\n",
       "      <td>2</td>\n",
       "      <td>0</td>\n",
       "      <td>12</td>\n",
       "      <td>NaN</td>\n",
       "      <td>NaN</td>\n",
       "      <td>1422</td>\n",
       "    </tr>\n",
       "    <tr>\n",
       "      <th>3</th>\n",
       "      <td>1000001</td>\n",
       "      <td>P00085442</td>\n",
       "      <td>F</td>\n",
       "      <td>0-17</td>\n",
       "      <td>10</td>\n",
       "      <td>A</td>\n",
       "      <td>2</td>\n",
       "      <td>0</td>\n",
       "      <td>12</td>\n",
       "      <td>14.0</td>\n",
       "      <td>NaN</td>\n",
       "      <td>1057</td>\n",
       "    </tr>\n",
       "    <tr>\n",
       "      <th>4</th>\n",
       "      <td>1000002</td>\n",
       "      <td>P00285442</td>\n",
       "      <td>M</td>\n",
       "      <td>55+</td>\n",
       "      <td>16</td>\n",
       "      <td>C</td>\n",
       "      <td>4+</td>\n",
       "      <td>0</td>\n",
       "      <td>8</td>\n",
       "      <td>NaN</td>\n",
       "      <td>NaN</td>\n",
       "      <td>7969</td>\n",
       "    </tr>\n",
       "    <tr>\n",
       "      <th>5</th>\n",
       "      <td>1000003</td>\n",
       "      <td>P00193542</td>\n",
       "      <td>M</td>\n",
       "      <td>26-35</td>\n",
       "      <td>15</td>\n",
       "      <td>A</td>\n",
       "      <td>3</td>\n",
       "      <td>0</td>\n",
       "      <td>1</td>\n",
       "      <td>2.0</td>\n",
       "      <td>NaN</td>\n",
       "      <td>15227</td>\n",
       "    </tr>\n",
       "    <tr>\n",
       "      <th>6</th>\n",
       "      <td>1000004</td>\n",
       "      <td>P00184942</td>\n",
       "      <td>M</td>\n",
       "      <td>46-50</td>\n",
       "      <td>7</td>\n",
       "      <td>B</td>\n",
       "      <td>2</td>\n",
       "      <td>1</td>\n",
       "      <td>1</td>\n",
       "      <td>8.0</td>\n",
       "      <td>17.0</td>\n",
       "      <td>19215</td>\n",
       "    </tr>\n",
       "    <tr>\n",
       "      <th>7</th>\n",
       "      <td>1000004</td>\n",
       "      <td>P00346142</td>\n",
       "      <td>M</td>\n",
       "      <td>46-50</td>\n",
       "      <td>7</td>\n",
       "      <td>B</td>\n",
       "      <td>2</td>\n",
       "      <td>1</td>\n",
       "      <td>1</td>\n",
       "      <td>15.0</td>\n",
       "      <td>NaN</td>\n",
       "      <td>15854</td>\n",
       "    </tr>\n",
       "    <tr>\n",
       "      <th>8</th>\n",
       "      <td>1000004</td>\n",
       "      <td>P0097242</td>\n",
       "      <td>M</td>\n",
       "      <td>46-50</td>\n",
       "      <td>7</td>\n",
       "      <td>B</td>\n",
       "      <td>2</td>\n",
       "      <td>1</td>\n",
       "      <td>1</td>\n",
       "      <td>16.0</td>\n",
       "      <td>NaN</td>\n",
       "      <td>15686</td>\n",
       "    </tr>\n",
       "    <tr>\n",
       "      <th>9</th>\n",
       "      <td>1000005</td>\n",
       "      <td>P00274942</td>\n",
       "      <td>M</td>\n",
       "      <td>26-35</td>\n",
       "      <td>20</td>\n",
       "      <td>A</td>\n",
       "      <td>1</td>\n",
       "      <td>1</td>\n",
       "      <td>8</td>\n",
       "      <td>NaN</td>\n",
       "      <td>NaN</td>\n",
       "      <td>7871</td>\n",
       "    </tr>\n",
       "  </tbody>\n",
       "</table>\n",
       "</div>"
      ],
      "text/plain": [
       "   User_ID Product_ID Gender    Age  Occupation City_Category  \\\n",
       "0  1000001  P00069042      F   0-17          10             A   \n",
       "1  1000001  P00248942      F   0-17          10             A   \n",
       "2  1000001  P00087842      F   0-17          10             A   \n",
       "3  1000001  P00085442      F   0-17          10             A   \n",
       "4  1000002  P00285442      M    55+          16             C   \n",
       "5  1000003  P00193542      M  26-35          15             A   \n",
       "6  1000004  P00184942      M  46-50           7             B   \n",
       "7  1000004  P00346142      M  46-50           7             B   \n",
       "8  1000004   P0097242      M  46-50           7             B   \n",
       "9  1000005  P00274942      M  26-35          20             A   \n",
       "\n",
       "  Stay_In_Current_City_Years  Marital_Status  Product_Category_1  \\\n",
       "0                          2               0                   3   \n",
       "1                          2               0                   1   \n",
       "2                          2               0                  12   \n",
       "3                          2               0                  12   \n",
       "4                         4+               0                   8   \n",
       "5                          3               0                   1   \n",
       "6                          2               1                   1   \n",
       "7                          2               1                   1   \n",
       "8                          2               1                   1   \n",
       "9                          1               1                   8   \n",
       "\n",
       "   Product_Category_2  Product_Category_3  Purchase  \n",
       "0                 NaN                 NaN      8370  \n",
       "1                 6.0                14.0     15200  \n",
       "2                 NaN                 NaN      1422  \n",
       "3                14.0                 NaN      1057  \n",
       "4                 NaN                 NaN      7969  \n",
       "5                 2.0                 NaN     15227  \n",
       "6                 8.0                17.0     19215  \n",
       "7                15.0                 NaN     15854  \n",
       "8                16.0                 NaN     15686  \n",
       "9                 NaN                 NaN      7871  "
      ]
     },
     "execution_count": 6,
     "metadata": {},
     "output_type": "execute_result"
    }
   ],
   "source": [
    "df.head(10)"
   ]
  },
  {
   "cell_type": "code",
   "execution_count": 7,
   "id": "f96a75d1",
   "metadata": {},
   "outputs": [
    {
     "data": {
      "text/html": [
       "<div>\n",
       "<style scoped>\n",
       "    .dataframe tbody tr th:only-of-type {\n",
       "        vertical-align: middle;\n",
       "    }\n",
       "\n",
       "    .dataframe tbody tr th {\n",
       "        vertical-align: top;\n",
       "    }\n",
       "\n",
       "    .dataframe thead th {\n",
       "        text-align: right;\n",
       "    }\n",
       "</style>\n",
       "<table border=\"1\" class=\"dataframe\">\n",
       "  <thead>\n",
       "    <tr style=\"text-align: right;\">\n",
       "      <th></th>\n",
       "      <th>User_ID</th>\n",
       "      <th>Occupation</th>\n",
       "      <th>Marital_Status</th>\n",
       "      <th>Product_Category_1</th>\n",
       "      <th>Product_Category_2</th>\n",
       "      <th>Product_Category_3</th>\n",
       "      <th>Purchase</th>\n",
       "    </tr>\n",
       "  </thead>\n",
       "  <tbody>\n",
       "    <tr>\n",
       "      <th>count</th>\n",
       "      <td>5.500680e+05</td>\n",
       "      <td>550068.000000</td>\n",
       "      <td>550068.000000</td>\n",
       "      <td>550068.000000</td>\n",
       "      <td>376430.000000</td>\n",
       "      <td>166821.000000</td>\n",
       "      <td>550068.000000</td>\n",
       "    </tr>\n",
       "    <tr>\n",
       "      <th>mean</th>\n",
       "      <td>1.003029e+06</td>\n",
       "      <td>8.076707</td>\n",
       "      <td>0.409653</td>\n",
       "      <td>5.404270</td>\n",
       "      <td>9.842329</td>\n",
       "      <td>12.668243</td>\n",
       "      <td>9263.968713</td>\n",
       "    </tr>\n",
       "    <tr>\n",
       "      <th>std</th>\n",
       "      <td>1.727592e+03</td>\n",
       "      <td>6.522660</td>\n",
       "      <td>0.491770</td>\n",
       "      <td>3.936211</td>\n",
       "      <td>5.086590</td>\n",
       "      <td>4.125338</td>\n",
       "      <td>5023.065394</td>\n",
       "    </tr>\n",
       "    <tr>\n",
       "      <th>min</th>\n",
       "      <td>1.000001e+06</td>\n",
       "      <td>0.000000</td>\n",
       "      <td>0.000000</td>\n",
       "      <td>1.000000</td>\n",
       "      <td>2.000000</td>\n",
       "      <td>3.000000</td>\n",
       "      <td>12.000000</td>\n",
       "    </tr>\n",
       "    <tr>\n",
       "      <th>25%</th>\n",
       "      <td>1.001516e+06</td>\n",
       "      <td>2.000000</td>\n",
       "      <td>0.000000</td>\n",
       "      <td>1.000000</td>\n",
       "      <td>5.000000</td>\n",
       "      <td>9.000000</td>\n",
       "      <td>5823.000000</td>\n",
       "    </tr>\n",
       "    <tr>\n",
       "      <th>50%</th>\n",
       "      <td>1.003077e+06</td>\n",
       "      <td>7.000000</td>\n",
       "      <td>0.000000</td>\n",
       "      <td>5.000000</td>\n",
       "      <td>9.000000</td>\n",
       "      <td>14.000000</td>\n",
       "      <td>8047.000000</td>\n",
       "    </tr>\n",
       "    <tr>\n",
       "      <th>75%</th>\n",
       "      <td>1.004478e+06</td>\n",
       "      <td>14.000000</td>\n",
       "      <td>1.000000</td>\n",
       "      <td>8.000000</td>\n",
       "      <td>15.000000</td>\n",
       "      <td>16.000000</td>\n",
       "      <td>12054.000000</td>\n",
       "    </tr>\n",
       "    <tr>\n",
       "      <th>max</th>\n",
       "      <td>1.006040e+06</td>\n",
       "      <td>20.000000</td>\n",
       "      <td>1.000000</td>\n",
       "      <td>20.000000</td>\n",
       "      <td>18.000000</td>\n",
       "      <td>18.000000</td>\n",
       "      <td>23961.000000</td>\n",
       "    </tr>\n",
       "  </tbody>\n",
       "</table>\n",
       "</div>"
      ],
      "text/plain": [
       "            User_ID     Occupation  Marital_Status  Product_Category_1  \\\n",
       "count  5.500680e+05  550068.000000   550068.000000       550068.000000   \n",
       "mean   1.003029e+06       8.076707        0.409653            5.404270   \n",
       "std    1.727592e+03       6.522660        0.491770            3.936211   \n",
       "min    1.000001e+06       0.000000        0.000000            1.000000   \n",
       "25%    1.001516e+06       2.000000        0.000000            1.000000   \n",
       "50%    1.003077e+06       7.000000        0.000000            5.000000   \n",
       "75%    1.004478e+06      14.000000        1.000000            8.000000   \n",
       "max    1.006040e+06      20.000000        1.000000           20.000000   \n",
       "\n",
       "       Product_Category_2  Product_Category_3       Purchase  \n",
       "count       376430.000000       166821.000000  550068.000000  \n",
       "mean             9.842329           12.668243    9263.968713  \n",
       "std              5.086590            4.125338    5023.065394  \n",
       "min              2.000000            3.000000      12.000000  \n",
       "25%              5.000000            9.000000    5823.000000  \n",
       "50%              9.000000           14.000000    8047.000000  \n",
       "75%             15.000000           16.000000   12054.000000  \n",
       "max             18.000000           18.000000   23961.000000  "
      ]
     },
     "execution_count": 7,
     "metadata": {},
     "output_type": "execute_result"
    }
   ],
   "source": [
    "df.describe()"
   ]
  },
  {
   "cell_type": "markdown",
   "id": "92524306",
   "metadata": {},
   "source": [
    "#### Missing Values "
   ]
  },
  {
   "cell_type": "code",
   "execution_count": 8,
   "id": "27cbfd04",
   "metadata": {},
   "outputs": [
    {
     "data": {
      "text/plain": [
       "User_ID                            0\n",
       "Product_ID                         0\n",
       "Gender                             0\n",
       "Age                                0\n",
       "Occupation                         0\n",
       "City_Category                      0\n",
       "Stay_In_Current_City_Years         0\n",
       "Marital_Status                     0\n",
       "Product_Category_1                 0\n",
       "Product_Category_2            173638\n",
       "Product_Category_3            383247\n",
       "Purchase                           0\n",
       "dtype: int64"
      ]
     },
     "execution_count": 8,
     "metadata": {},
     "output_type": "execute_result"
    }
   ],
   "source": [
    "df.isnull().sum()"
   ]
  },
  {
   "cell_type": "markdown",
   "id": "c8fc1107",
   "metadata": {},
   "source": [
    "From the above Information we can observe only <span style='color:red'>Product_Category_2 (73638)</span> and \n",
    "<span style='color:red'> Product_Category_3 (383247)</span> has a large number of missing values.\n",
    "\n",
    "Lets find the ratio between the missing values"
   ]
  },
  {
   "cell_type": "code",
   "execution_count": 9,
   "id": "95f7dc47",
   "metadata": {},
   "outputs": [
    {
     "name": "stdout",
     "output_type": "stream",
     "text": [
      "Product_Category_2 Percentage of missing values is: 31.57 %\n",
      "Product_Category_3 Percentage of missing values is: 69.67 %\n"
     ]
    }
   ],
   "source": [
    "print(\"Product_Category_2 Percentage of missing values is: \",end=\"\")\n",
    "print(round((df['Product_Category_2'].isnull().sum()/len(df['Product_Category_2'].index))*100,2),\"%\")\n",
    "print(\"Product_Category_3 Percentage of missing values is: \",end=\"\")\n",
    "print(round((df['Product_Category_3'].isnull().sum()/len(df['Product_Category_3'].index))*100,2),\"%\")"
   ]
  },
  {
   "cell_type": "markdown",
   "id": "3a4ccaf8",
   "metadata": {},
   "source": [
    "When we have more number of values we our best choice is median"
   ]
  },
  {
   "cell_type": "code",
   "execution_count": 10,
   "id": "cb0b263d",
   "metadata": {},
   "outputs": [],
   "source": [
    "df[\"Product_Category_2\"].fillna(df[\"Product_Category_2\"].median(), inplace=True)\n",
    "df[\"Product_Category_3\"].fillna(df[\"Product_Category_3\"].median(), inplace=True)"
   ]
  },
  {
   "cell_type": "code",
   "execution_count": 11,
   "id": "becead32",
   "metadata": {},
   "outputs": [
    {
     "data": {
      "text/plain": [
       "User_ID                       0\n",
       "Product_ID                    0\n",
       "Gender                        0\n",
       "Age                           0\n",
       "Occupation                    0\n",
       "City_Category                 0\n",
       "Stay_In_Current_City_Years    0\n",
       "Marital_Status                0\n",
       "Product_Category_1            0\n",
       "Product_Category_2            0\n",
       "Product_Category_3            0\n",
       "Purchase                      0\n",
       "dtype: int64"
      ]
     },
     "execution_count": 11,
     "metadata": {},
     "output_type": "execute_result"
    }
   ],
   "source": [
    "df.isnull().sum()"
   ]
  },
  {
   "cell_type": "markdown",
   "id": "1cb74d4c",
   "metadata": {},
   "source": [
    "##### No missing values"
   ]
  },
  {
   "cell_type": "markdown",
   "id": "ca129875",
   "metadata": {},
   "source": [
    " "
   ]
  },
  {
   "cell_type": "markdown",
   "id": "b0ef3735",
   "metadata": {},
   "source": [
    "##### Getting the Unique value count from the dataset with Missing values"
   ]
  },
  {
   "cell_type": "code",
   "execution_count": 12,
   "id": "097c38dd",
   "metadata": {},
   "outputs": [
    {
     "data": {
      "text/plain": [
       "User_ID                        5891\n",
       "Product_ID                     3631\n",
       "Gender                            2\n",
       "Age                               7\n",
       "Occupation                       21\n",
       "City_Category                     3\n",
       "Stay_In_Current_City_Years        5\n",
       "Marital_Status                    2\n",
       "Product_Category_1               20\n",
       "Product_Category_2               17\n",
       "Product_Category_3               15\n",
       "Purchase                      18105\n",
       "dtype: int64"
      ]
     },
     "execution_count": 12,
     "metadata": {},
     "output_type": "execute_result"
    }
   ],
   "source": [
    "df.nunique()"
   ]
  },
  {
   "cell_type": "code",
   "execution_count": 13,
   "id": "65a8f563",
   "metadata": {},
   "outputs": [
    {
     "name": "stdout",
     "output_type": "stream",
     "text": [
      "Gender column we have  2 Unique values : \n",
      "  ['F' 'M']\n",
      "\n",
      "\n",
      "Age column we have  7 Unique values : \n",
      "  ['0-17' '55+' '26-35' '46-50' '51-55' '36-45' '18-25']\n",
      "\n",
      "\n",
      "City_Category column we have  3 Unique values : \n",
      "  ['A' 'C' 'B']\n",
      "\n",
      "\n",
      "Stay_In_Current_City_Years column we have  5 Unique values : \n",
      "  ['2' '4+' '3' '1' '0']\n",
      "\n",
      "\n",
      "Marital_Status column we have  2 Unique values : \n",
      "  [0 1]\n",
      "\n",
      "\n"
     ]
    }
   ],
   "source": [
    "for i in df.columns:\n",
    "    if len(df[i].unique()) <= 10:\n",
    "        print(i,\"column we have \",len(df[i].unique()),\"Unique values :\",\"\\n \",df[i].unique())\n",
    "        print(\"\\n\")"
   ]
  },
  {
   "cell_type": "markdown",
   "id": "672ac1b1",
   "metadata": {},
   "source": [
    "By using <span style='color:green'> OneHotEncoder and LabelEncoding</span> we encode them."
   ]
  },
  {
   "cell_type": "code",
   "execution_count": 14,
   "id": "278f89c2",
   "metadata": {},
   "outputs": [],
   "source": [
    "#for Gender we can OneHot them and remove one column\n",
    "df['GenderEC']=df['Gender'].map({'F':0,'M':1})\n",
    "df['City_CategoryEC']=df['City_Category'].map({'A':0,'B':1,'C':2})\n",
    "df['Stay_In_Current_City_YearsEC']= df['Stay_In_Current_City_Years'].map({'0':0,'1':1,'2':2,'3':3,'+4':4})"
   ]
  },
  {
   "cell_type": "code",
   "execution_count": 15,
   "id": "9d931473",
   "metadata": {},
   "outputs": [
    {
     "data": {
      "text/html": [
       "<div>\n",
       "<style scoped>\n",
       "    .dataframe tbody tr th:only-of-type {\n",
       "        vertical-align: middle;\n",
       "    }\n",
       "\n",
       "    .dataframe tbody tr th {\n",
       "        vertical-align: top;\n",
       "    }\n",
       "\n",
       "    .dataframe thead th {\n",
       "        text-align: right;\n",
       "    }\n",
       "</style>\n",
       "<table border=\"1\" class=\"dataframe\">\n",
       "  <thead>\n",
       "    <tr style=\"text-align: right;\">\n",
       "      <th></th>\n",
       "      <th>User_ID</th>\n",
       "      <th>Product_ID</th>\n",
       "      <th>Gender</th>\n",
       "      <th>Age</th>\n",
       "      <th>Occupation</th>\n",
       "      <th>City_Category</th>\n",
       "      <th>Stay_In_Current_City_Years</th>\n",
       "      <th>Marital_Status</th>\n",
       "      <th>Product_Category_1</th>\n",
       "      <th>Product_Category_2</th>\n",
       "      <th>Product_Category_3</th>\n",
       "      <th>Purchase</th>\n",
       "      <th>GenderEC</th>\n",
       "      <th>City_CategoryEC</th>\n",
       "      <th>Stay_In_Current_City_YearsEC</th>\n",
       "    </tr>\n",
       "  </thead>\n",
       "  <tbody>\n",
       "    <tr>\n",
       "      <th>0</th>\n",
       "      <td>1000001</td>\n",
       "      <td>P00069042</td>\n",
       "      <td>F</td>\n",
       "      <td>0-17</td>\n",
       "      <td>10</td>\n",
       "      <td>A</td>\n",
       "      <td>2</td>\n",
       "      <td>0</td>\n",
       "      <td>3</td>\n",
       "      <td>9.0</td>\n",
       "      <td>14.0</td>\n",
       "      <td>8370</td>\n",
       "      <td>0</td>\n",
       "      <td>0</td>\n",
       "      <td>2.0</td>\n",
       "    </tr>\n",
       "    <tr>\n",
       "      <th>1</th>\n",
       "      <td>1000001</td>\n",
       "      <td>P00248942</td>\n",
       "      <td>F</td>\n",
       "      <td>0-17</td>\n",
       "      <td>10</td>\n",
       "      <td>A</td>\n",
       "      <td>2</td>\n",
       "      <td>0</td>\n",
       "      <td>1</td>\n",
       "      <td>6.0</td>\n",
       "      <td>14.0</td>\n",
       "      <td>15200</td>\n",
       "      <td>0</td>\n",
       "      <td>0</td>\n",
       "      <td>2.0</td>\n",
       "    </tr>\n",
       "    <tr>\n",
       "      <th>2</th>\n",
       "      <td>1000001</td>\n",
       "      <td>P00087842</td>\n",
       "      <td>F</td>\n",
       "      <td>0-17</td>\n",
       "      <td>10</td>\n",
       "      <td>A</td>\n",
       "      <td>2</td>\n",
       "      <td>0</td>\n",
       "      <td>12</td>\n",
       "      <td>9.0</td>\n",
       "      <td>14.0</td>\n",
       "      <td>1422</td>\n",
       "      <td>0</td>\n",
       "      <td>0</td>\n",
       "      <td>2.0</td>\n",
       "    </tr>\n",
       "    <tr>\n",
       "      <th>3</th>\n",
       "      <td>1000001</td>\n",
       "      <td>P00085442</td>\n",
       "      <td>F</td>\n",
       "      <td>0-17</td>\n",
       "      <td>10</td>\n",
       "      <td>A</td>\n",
       "      <td>2</td>\n",
       "      <td>0</td>\n",
       "      <td>12</td>\n",
       "      <td>14.0</td>\n",
       "      <td>14.0</td>\n",
       "      <td>1057</td>\n",
       "      <td>0</td>\n",
       "      <td>0</td>\n",
       "      <td>2.0</td>\n",
       "    </tr>\n",
       "    <tr>\n",
       "      <th>4</th>\n",
       "      <td>1000002</td>\n",
       "      <td>P00285442</td>\n",
       "      <td>M</td>\n",
       "      <td>55+</td>\n",
       "      <td>16</td>\n",
       "      <td>C</td>\n",
       "      <td>4+</td>\n",
       "      <td>0</td>\n",
       "      <td>8</td>\n",
       "      <td>9.0</td>\n",
       "      <td>14.0</td>\n",
       "      <td>7969</td>\n",
       "      <td>1</td>\n",
       "      <td>2</td>\n",
       "      <td>NaN</td>\n",
       "    </tr>\n",
       "  </tbody>\n",
       "</table>\n",
       "</div>"
      ],
      "text/plain": [
       "   User_ID Product_ID Gender   Age  Occupation City_Category  \\\n",
       "0  1000001  P00069042      F  0-17          10             A   \n",
       "1  1000001  P00248942      F  0-17          10             A   \n",
       "2  1000001  P00087842      F  0-17          10             A   \n",
       "3  1000001  P00085442      F  0-17          10             A   \n",
       "4  1000002  P00285442      M   55+          16             C   \n",
       "\n",
       "  Stay_In_Current_City_Years  Marital_Status  Product_Category_1  \\\n",
       "0                          2               0                   3   \n",
       "1                          2               0                   1   \n",
       "2                          2               0                  12   \n",
       "3                          2               0                  12   \n",
       "4                         4+               0                   8   \n",
       "\n",
       "   Product_Category_2  Product_Category_3  Purchase  GenderEC  \\\n",
       "0                 9.0                14.0      8370         0   \n",
       "1                 6.0                14.0     15200         0   \n",
       "2                 9.0                14.0      1422         0   \n",
       "3                14.0                14.0      1057         0   \n",
       "4                 9.0                14.0      7969         1   \n",
       "\n",
       "   City_CategoryEC  Stay_In_Current_City_YearsEC  \n",
       "0                0                           2.0  \n",
       "1                0                           2.0  \n",
       "2                0                           2.0  \n",
       "3                0                           2.0  \n",
       "4                2                           NaN  "
      ]
     },
     "execution_count": 15,
     "metadata": {},
     "output_type": "execute_result"
    }
   ],
   "source": [
    "df.head(5)"
   ]
  },
  {
   "cell_type": "code",
   "execution_count": 16,
   "id": "06b41b64",
   "metadata": {},
   "outputs": [
    {
     "data": {
      "text/html": [
       "<div>\n",
       "<style scoped>\n",
       "    .dataframe tbody tr th:only-of-type {\n",
       "        vertical-align: middle;\n",
       "    }\n",
       "\n",
       "    .dataframe tbody tr th {\n",
       "        vertical-align: top;\n",
       "    }\n",
       "\n",
       "    .dataframe thead th {\n",
       "        text-align: right;\n",
       "    }\n",
       "</style>\n",
       "<table border=\"1\" class=\"dataframe\">\n",
       "  <thead>\n",
       "    <tr style=\"text-align: right;\">\n",
       "      <th></th>\n",
       "      <th>User_ID</th>\n",
       "      <th>Occupation</th>\n",
       "      <th>Marital_Status</th>\n",
       "      <th>Product_Category_1</th>\n",
       "      <th>Product_Category_2</th>\n",
       "      <th>Product_Category_3</th>\n",
       "      <th>Purchase</th>\n",
       "      <th>GenderEC</th>\n",
       "      <th>City_CategoryEC</th>\n",
       "      <th>Stay_In_Current_City_YearsEC</th>\n",
       "    </tr>\n",
       "  </thead>\n",
       "  <tbody>\n",
       "    <tr>\n",
       "      <th>count</th>\n",
       "      <td>5.500680e+05</td>\n",
       "      <td>550068.000000</td>\n",
       "      <td>550068.000000</td>\n",
       "      <td>550068.000000</td>\n",
       "      <td>550068.000000</td>\n",
       "      <td>550068.000000</td>\n",
       "      <td>550068.000000</td>\n",
       "      <td>550068.000000</td>\n",
       "      <td>550068.000000</td>\n",
       "      <td>465342.000000</td>\n",
       "    </tr>\n",
       "    <tr>\n",
       "      <th>mean</th>\n",
       "      <td>1.003029e+06</td>\n",
       "      <td>8.076707</td>\n",
       "      <td>0.409653</td>\n",
       "      <td>5.404270</td>\n",
       "      <td>9.576434</td>\n",
       "      <td>13.596114</td>\n",
       "      <td>9263.968713</td>\n",
       "      <td>0.753105</td>\n",
       "      <td>1.042640</td>\n",
       "      <td>1.468494</td>\n",
       "    </tr>\n",
       "    <tr>\n",
       "      <th>std</th>\n",
       "      <td>1.727592e+03</td>\n",
       "      <td>6.522660</td>\n",
       "      <td>0.491770</td>\n",
       "      <td>3.936211</td>\n",
       "      <td>4.226025</td>\n",
       "      <td>2.352863</td>\n",
       "      <td>5023.065394</td>\n",
       "      <td>0.431205</td>\n",
       "      <td>0.760211</td>\n",
       "      <td>0.989087</td>\n",
       "    </tr>\n",
       "    <tr>\n",
       "      <th>min</th>\n",
       "      <td>1.000001e+06</td>\n",
       "      <td>0.000000</td>\n",
       "      <td>0.000000</td>\n",
       "      <td>1.000000</td>\n",
       "      <td>2.000000</td>\n",
       "      <td>3.000000</td>\n",
       "      <td>12.000000</td>\n",
       "      <td>0.000000</td>\n",
       "      <td>0.000000</td>\n",
       "      <td>0.000000</td>\n",
       "    </tr>\n",
       "    <tr>\n",
       "      <th>25%</th>\n",
       "      <td>1.001516e+06</td>\n",
       "      <td>2.000000</td>\n",
       "      <td>0.000000</td>\n",
       "      <td>1.000000</td>\n",
       "      <td>8.000000</td>\n",
       "      <td>14.000000</td>\n",
       "      <td>5823.000000</td>\n",
       "      <td>1.000000</td>\n",
       "      <td>0.000000</td>\n",
       "      <td>1.000000</td>\n",
       "    </tr>\n",
       "    <tr>\n",
       "      <th>50%</th>\n",
       "      <td>1.003077e+06</td>\n",
       "      <td>7.000000</td>\n",
       "      <td>0.000000</td>\n",
       "      <td>5.000000</td>\n",
       "      <td>9.000000</td>\n",
       "      <td>14.000000</td>\n",
       "      <td>8047.000000</td>\n",
       "      <td>1.000000</td>\n",
       "      <td>1.000000</td>\n",
       "      <td>1.000000</td>\n",
       "    </tr>\n",
       "    <tr>\n",
       "      <th>75%</th>\n",
       "      <td>1.004478e+06</td>\n",
       "      <td>14.000000</td>\n",
       "      <td>1.000000</td>\n",
       "      <td>8.000000</td>\n",
       "      <td>14.000000</td>\n",
       "      <td>14.000000</td>\n",
       "      <td>12054.000000</td>\n",
       "      <td>1.000000</td>\n",
       "      <td>2.000000</td>\n",
       "      <td>2.000000</td>\n",
       "    </tr>\n",
       "    <tr>\n",
       "      <th>max</th>\n",
       "      <td>1.006040e+06</td>\n",
       "      <td>20.000000</td>\n",
       "      <td>1.000000</td>\n",
       "      <td>20.000000</td>\n",
       "      <td>18.000000</td>\n",
       "      <td>18.000000</td>\n",
       "      <td>23961.000000</td>\n",
       "      <td>1.000000</td>\n",
       "      <td>2.000000</td>\n",
       "      <td>3.000000</td>\n",
       "    </tr>\n",
       "  </tbody>\n",
       "</table>\n",
       "</div>"
      ],
      "text/plain": [
       "            User_ID     Occupation  Marital_Status  Product_Category_1  \\\n",
       "count  5.500680e+05  550068.000000   550068.000000       550068.000000   \n",
       "mean   1.003029e+06       8.076707        0.409653            5.404270   \n",
       "std    1.727592e+03       6.522660        0.491770            3.936211   \n",
       "min    1.000001e+06       0.000000        0.000000            1.000000   \n",
       "25%    1.001516e+06       2.000000        0.000000            1.000000   \n",
       "50%    1.003077e+06       7.000000        0.000000            5.000000   \n",
       "75%    1.004478e+06      14.000000        1.000000            8.000000   \n",
       "max    1.006040e+06      20.000000        1.000000           20.000000   \n",
       "\n",
       "       Product_Category_2  Product_Category_3       Purchase       GenderEC  \\\n",
       "count       550068.000000       550068.000000  550068.000000  550068.000000   \n",
       "mean             9.576434           13.596114    9263.968713       0.753105   \n",
       "std              4.226025            2.352863    5023.065394       0.431205   \n",
       "min              2.000000            3.000000      12.000000       0.000000   \n",
       "25%              8.000000           14.000000    5823.000000       1.000000   \n",
       "50%              9.000000           14.000000    8047.000000       1.000000   \n",
       "75%             14.000000           14.000000   12054.000000       1.000000   \n",
       "max             18.000000           18.000000   23961.000000       1.000000   \n",
       "\n",
       "       City_CategoryEC  Stay_In_Current_City_YearsEC  \n",
       "count    550068.000000                 465342.000000  \n",
       "mean          1.042640                      1.468494  \n",
       "std           0.760211                      0.989087  \n",
       "min           0.000000                      0.000000  \n",
       "25%           0.000000                      1.000000  \n",
       "50%           1.000000                      1.000000  \n",
       "75%           2.000000                      2.000000  \n",
       "max           2.000000                      3.000000  "
      ]
     },
     "execution_count": 16,
     "metadata": {},
     "output_type": "execute_result"
    }
   ],
   "source": [
    "df.describe()"
   ]
  },
  {
   "cell_type": "markdown",
   "id": "63c7a192",
   "metadata": {},
   "source": [
    "### 1.Check the correlation matrix and identify most correlated features."
   ]
  },
  {
   "cell_type": "code",
   "execution_count": 17,
   "id": "0baebad4",
   "metadata": {},
   "outputs": [
    {
     "data": {
      "text/html": [
       "<div>\n",
       "<style scoped>\n",
       "    .dataframe tbody tr th:only-of-type {\n",
       "        vertical-align: middle;\n",
       "    }\n",
       "\n",
       "    .dataframe tbody tr th {\n",
       "        vertical-align: top;\n",
       "    }\n",
       "\n",
       "    .dataframe thead th {\n",
       "        text-align: right;\n",
       "    }\n",
       "</style>\n",
       "<table border=\"1\" class=\"dataframe\">\n",
       "  <thead>\n",
       "    <tr style=\"text-align: right;\">\n",
       "      <th></th>\n",
       "      <th>User_ID</th>\n",
       "      <th>Occupation</th>\n",
       "      <th>Marital_Status</th>\n",
       "      <th>Product_Category_1</th>\n",
       "      <th>Product_Category_2</th>\n",
       "      <th>Product_Category_3</th>\n",
       "      <th>Purchase</th>\n",
       "      <th>GenderEC</th>\n",
       "      <th>City_CategoryEC</th>\n",
       "      <th>Stay_In_Current_City_YearsEC</th>\n",
       "    </tr>\n",
       "  </thead>\n",
       "  <tbody>\n",
       "    <tr>\n",
       "      <th>User_ID</th>\n",
       "      <td>1.000000</td>\n",
       "      <td>-0.023971</td>\n",
       "      <td>0.020443</td>\n",
       "      <td>0.003825</td>\n",
       "      <td>0.001644</td>\n",
       "      <td>0.001008</td>\n",
       "      <td>0.004716</td>\n",
       "      <td>-0.033474</td>\n",
       "      <td>0.022859</td>\n",
       "      <td>-0.026053</td>\n",
       "    </tr>\n",
       "    <tr>\n",
       "      <th>Occupation</th>\n",
       "      <td>-0.023971</td>\n",
       "      <td>1.000000</td>\n",
       "      <td>0.024280</td>\n",
       "      <td>-0.007618</td>\n",
       "      <td>0.000557</td>\n",
       "      <td>0.004325</td>\n",
       "      <td>0.020833</td>\n",
       "      <td>0.117291</td>\n",
       "      <td>0.034479</td>\n",
       "      <td>0.031107</td>\n",
       "    </tr>\n",
       "    <tr>\n",
       "      <th>Marital_Status</th>\n",
       "      <td>0.020443</td>\n",
       "      <td>0.024280</td>\n",
       "      <td>1.000000</td>\n",
       "      <td>0.019888</td>\n",
       "      <td>0.011526</td>\n",
       "      <td>0.012705</td>\n",
       "      <td>-0.000463</td>\n",
       "      <td>-0.011603</td>\n",
       "      <td>0.039790</td>\n",
       "      <td>-0.012341</td>\n",
       "    </tr>\n",
       "    <tr>\n",
       "      <th>Product_Category_1</th>\n",
       "      <td>0.003825</td>\n",
       "      <td>-0.007618</td>\n",
       "      <td>0.019888</td>\n",
       "      <td>1.000000</td>\n",
       "      <td>0.331691</td>\n",
       "      <td>0.195930</td>\n",
       "      <td>-0.343703</td>\n",
       "      <td>-0.045594</td>\n",
       "      <td>-0.014364</td>\n",
       "      <td>-0.013732</td>\n",
       "    </tr>\n",
       "    <tr>\n",
       "      <th>Product_Category_2</th>\n",
       "      <td>0.001644</td>\n",
       "      <td>0.000557</td>\n",
       "      <td>0.011526</td>\n",
       "      <td>0.331691</td>\n",
       "      <td>1.000000</td>\n",
       "      <td>0.416680</td>\n",
       "      <td>-0.156676</td>\n",
       "      <td>-0.014051</td>\n",
       "      <td>-0.006888</td>\n",
       "      <td>-0.006108</td>\n",
       "    </tr>\n",
       "    <tr>\n",
       "      <th>Product_Category_3</th>\n",
       "      <td>0.001008</td>\n",
       "      <td>0.004325</td>\n",
       "      <td>0.012705</td>\n",
       "      <td>0.195930</td>\n",
       "      <td>0.416680</td>\n",
       "      <td>1.000000</td>\n",
       "      <td>-0.093656</td>\n",
       "      <td>0.005887</td>\n",
       "      <td>-0.011300</td>\n",
       "      <td>-0.003094</td>\n",
       "    </tr>\n",
       "    <tr>\n",
       "      <th>Purchase</th>\n",
       "      <td>0.004716</td>\n",
       "      <td>0.020833</td>\n",
       "      <td>-0.000463</td>\n",
       "      <td>-0.343703</td>\n",
       "      <td>-0.156676</td>\n",
       "      <td>-0.093656</td>\n",
       "      <td>1.000000</td>\n",
       "      <td>0.060346</td>\n",
       "      <td>0.061914</td>\n",
       "      <td>0.007276</td>\n",
       "    </tr>\n",
       "    <tr>\n",
       "      <th>GenderEC</th>\n",
       "      <td>-0.033474</td>\n",
       "      <td>0.117291</td>\n",
       "      <td>-0.011603</td>\n",
       "      <td>-0.045594</td>\n",
       "      <td>-0.014051</td>\n",
       "      <td>0.005887</td>\n",
       "      <td>0.060346</td>\n",
       "      <td>1.000000</td>\n",
       "      <td>-0.004515</td>\n",
       "      <td>-0.006984</td>\n",
       "    </tr>\n",
       "    <tr>\n",
       "      <th>City_CategoryEC</th>\n",
       "      <td>0.022859</td>\n",
       "      <td>0.034479</td>\n",
       "      <td>0.039790</td>\n",
       "      <td>-0.014364</td>\n",
       "      <td>-0.006888</td>\n",
       "      <td>-0.011300</td>\n",
       "      <td>0.061914</td>\n",
       "      <td>-0.004515</td>\n",
       "      <td>1.000000</td>\n",
       "      <td>0.017269</td>\n",
       "    </tr>\n",
       "    <tr>\n",
       "      <th>Stay_In_Current_City_YearsEC</th>\n",
       "      <td>-0.026053</td>\n",
       "      <td>0.031107</td>\n",
       "      <td>-0.012341</td>\n",
       "      <td>-0.013732</td>\n",
       "      <td>-0.006108</td>\n",
       "      <td>-0.003094</td>\n",
       "      <td>0.007276</td>\n",
       "      <td>-0.006984</td>\n",
       "      <td>0.017269</td>\n",
       "      <td>1.000000</td>\n",
       "    </tr>\n",
       "  </tbody>\n",
       "</table>\n",
       "</div>"
      ],
      "text/plain": [
       "                               User_ID  Occupation  Marital_Status  \\\n",
       "User_ID                       1.000000   -0.023971        0.020443   \n",
       "Occupation                   -0.023971    1.000000        0.024280   \n",
       "Marital_Status                0.020443    0.024280        1.000000   \n",
       "Product_Category_1            0.003825   -0.007618        0.019888   \n",
       "Product_Category_2            0.001644    0.000557        0.011526   \n",
       "Product_Category_3            0.001008    0.004325        0.012705   \n",
       "Purchase                      0.004716    0.020833       -0.000463   \n",
       "GenderEC                     -0.033474    0.117291       -0.011603   \n",
       "City_CategoryEC               0.022859    0.034479        0.039790   \n",
       "Stay_In_Current_City_YearsEC -0.026053    0.031107       -0.012341   \n",
       "\n",
       "                              Product_Category_1  Product_Category_2  \\\n",
       "User_ID                                 0.003825            0.001644   \n",
       "Occupation                             -0.007618            0.000557   \n",
       "Marital_Status                          0.019888            0.011526   \n",
       "Product_Category_1                      1.000000            0.331691   \n",
       "Product_Category_2                      0.331691            1.000000   \n",
       "Product_Category_3                      0.195930            0.416680   \n",
       "Purchase                               -0.343703           -0.156676   \n",
       "GenderEC                               -0.045594           -0.014051   \n",
       "City_CategoryEC                        -0.014364           -0.006888   \n",
       "Stay_In_Current_City_YearsEC           -0.013732           -0.006108   \n",
       "\n",
       "                              Product_Category_3  Purchase  GenderEC  \\\n",
       "User_ID                                 0.001008  0.004716 -0.033474   \n",
       "Occupation                              0.004325  0.020833  0.117291   \n",
       "Marital_Status                          0.012705 -0.000463 -0.011603   \n",
       "Product_Category_1                      0.195930 -0.343703 -0.045594   \n",
       "Product_Category_2                      0.416680 -0.156676 -0.014051   \n",
       "Product_Category_3                      1.000000 -0.093656  0.005887   \n",
       "Purchase                               -0.093656  1.000000  0.060346   \n",
       "GenderEC                                0.005887  0.060346  1.000000   \n",
       "City_CategoryEC                        -0.011300  0.061914 -0.004515   \n",
       "Stay_In_Current_City_YearsEC           -0.003094  0.007276 -0.006984   \n",
       "\n",
       "                              City_CategoryEC  Stay_In_Current_City_YearsEC  \n",
       "User_ID                              0.022859                     -0.026053  \n",
       "Occupation                           0.034479                      0.031107  \n",
       "Marital_Status                       0.039790                     -0.012341  \n",
       "Product_Category_1                  -0.014364                     -0.013732  \n",
       "Product_Category_2                  -0.006888                     -0.006108  \n",
       "Product_Category_3                  -0.011300                     -0.003094  \n",
       "Purchase                             0.061914                      0.007276  \n",
       "GenderEC                            -0.004515                     -0.006984  \n",
       "City_CategoryEC                      1.000000                      0.017269  \n",
       "Stay_In_Current_City_YearsEC         0.017269                      1.000000  "
      ]
     },
     "execution_count": 17,
     "metadata": {},
     "output_type": "execute_result"
    }
   ],
   "source": [
    "df.corr()"
   ]
  },
  {
   "cell_type": "markdown",
   "id": "7504ea62",
   "metadata": {},
   "source": [
    "As of the data is not yet Scaled/normalize/standerdize we need to scale data before performing these operations"
   ]
  },
  {
   "cell_type": "markdown",
   "id": "881a8a54",
   "metadata": {},
   "source": [
    "In the above dataset there few features which or not so helpful/useful to find their corr() so make new df or drop the unwanted features and perform your actions"
   ]
  },
  {
   "cell_type": "code",
   "execution_count": 18,
   "id": "d3d03ba9",
   "metadata": {},
   "outputs": [],
   "source": [
    "df1=df[['Product_Category_1','Product_Category_2','Product_Category_3','Purchase']]"
   ]
  },
  {
   "cell_type": "code",
   "execution_count": 19,
   "id": "93167ff0",
   "metadata": {},
   "outputs": [],
   "source": [
    "scaler = StandardScaler()\n",
    "df_scaled = scaler.fit_transform(df1)\n",
    "df2 = pd.DataFrame(df_scaled, columns=df1.columns)"
   ]
  },
  {
   "cell_type": "code",
   "execution_count": 20,
   "id": "3a1abcff",
   "metadata": {},
   "outputs": [
    {
     "data": {
      "text/plain": [
       "<AxesSubplot:>"
      ]
     },
     "execution_count": 20,
     "metadata": {},
     "output_type": "execute_result"
    },
    {
     "data": {
      "image/png": "[encoded data removed]",
      "text/plain": [
       "<Figure size 432x288 with 2 Axes>"
      ]
     },
     "metadata": {
      "needs_background": "light"
     },
     "output_type": "display_data"
    }
   ],
   "source": [
    "sns.heatmap(df2.corr(), annot=True)"
   ]
  },
  {
   "cell_type": "markdown",
   "id": "c041aa78",
   "metadata": {},
   "source": [
    "Company wants to understand the customer purchase behaviour against various products of different categories.So, we have elininated other features"
   ]
  },
  {
   "cell_type": "markdown",
   "id": "1cf94781",
   "metadata": {},
   "source": [
    "#### Note:\n",
    "    1. Product_Category_2 is very much correlated with Product_Category_1 and Product_Category_3"
   ]
  },
  {
   "cell_type": "markdown",
   "id": "1b136dce",
   "metadata": {},
   "source": [
    "### 2.Find out the Covariance Matrix? Also Identify eigen values and eigen vectors of covariance matrix."
   ]
  },
  {
   "cell_type": "code",
   "execution_count": 24,
   "id": "136415db",
   "metadata": {},
   "outputs": [],
   "source": [
    "df3= np.array(df2)\n",
    "covarMat = np.cov(df3.T)#np.cov() can only deal with array data types"
   ]
  },
  {
   "cell_type": "markdown",
   "id": "5de8c9a1",
   "metadata": {},
   "source": [
    "#### covariance Matrix"
   ]
  },
  {
   "cell_type": "code",
   "execution_count": 25,
   "id": "04db4595",
   "metadata": {},
   "outputs": [
    {
     "name": "stdout",
     "output_type": "stream",
     "text": [
      "[[ 1.00000182  0.33169208  0.19593022 -0.34370397]\n",
      " [ 0.33169208  1.00000182  0.41668031 -0.15667656]\n",
      " [ 0.19593022  0.41668031  1.00000182 -0.09365666]\n",
      " [-0.34370397 -0.15667656 -0.09365666  1.00000182]]\n"
     ]
    }
   ],
   "source": [
    "print(covarMat)"
   ]
  },
  {
   "cell_type": "code",
   "execution_count": 26,
   "id": "5d625599",
   "metadata": {},
   "outputs": [],
   "source": [
    "eigenValues, eigenVectors = np.linalg.eig(covarMat)"
   ]
  },
  {
   "cell_type": "markdown",
   "id": "cba412c6",
   "metadata": {},
   "source": [
    "#### Eigen Values"
   ]
  },
  {
   "cell_type": "code",
   "execution_count": 28,
   "id": "f49c6909",
   "metadata": {},
   "outputs": [
    {
     "name": "stdout",
     "output_type": "stream",
     "text": [
      "[1.78432961 1.02249543 0.6504807  0.54270154]\n"
     ]
    }
   ],
   "source": [
    "print(eigenValues)"
   ]
  },
  {
   "cell_type": "markdown",
   "id": "43d89024",
   "metadata": {},
   "source": [
    "#### Eigen Vectors"
   ]
  },
  {
   "cell_type": "code",
   "execution_count": 29,
   "id": "bea21c7f",
   "metadata": {},
   "outputs": [
    {
     "name": "stdout",
     "output_type": "stream",
     "text": [
      "[[ 0.53584727  0.35224619  0.61870333 -0.4538684 ]\n",
      " [ 0.5632321  -0.34644296  0.23261586  0.71318773]\n",
      " [ 0.48141841 -0.55175043 -0.46667782 -0.49600362]\n",
      " [-0.40481307 -0.67191618  0.58762902 -0.19836117]]\n"
     ]
    }
   ],
   "source": [
    "print(eigenVectors)"
   ]
  },
  {
   "cell_type": "markdown",
   "id": "5c9cb356",
   "metadata": {},
   "source": [
    "### 3. Find out the two most important Principal Components."
   ]
  },
  {
   "cell_type": "markdown",
   "id": "cae22d57",
   "metadata": {},
   "source": [
    "In order to decide which eigenvector(s) can dropped without losing too much information for the construction of lower-dimensional subspace, we need to inspect the corresponding eigenvalues: The eigenvectors with the lowest eigenvalues bear the least information about the distribution of the data; those are the ones can be dropped."
   ]
  },
  {
   "cell_type": "code",
   "execution_count": 30,
   "id": "99b30960",
   "metadata": {},
   "outputs": [],
   "source": [
    "for ev in eigenVectors.T:\n",
    "    np.testing.assert_array_almost_equal(1.0, np.linalg.norm(ev))"
   ]
  },
  {
   "cell_type": "code",
   "execution_count": 31,
   "id": "85da4afc",
   "metadata": {},
   "outputs": [
    {
     "name": "stdout",
     "output_type": "stream",
     "text": [
      "1.7843296060019977\n",
      "1.0224954254920544\n",
      "0.6504806981102764\n",
      "0.5427015422371018\n"
     ]
    }
   ],
   "source": [
    "# Make a list of (eigenvalue, eigenvector) tuples\n",
    "eigPairs = [(np.abs(eigenValues[i]), eigenVectors[:,i]) for i in range(len(eigenValues))]\n",
    "\n",
    "# Sort the (eigenvalue, eigenvector) tuples from high to low\n",
    "eigPairs.sort(key=lambda x: x[0], reverse=True)\n",
    "for i in eigPairs:\n",
    "    print(i[0])"
   ]
  },
  {
   "cell_type": "markdown",
   "id": "e1a2eb0e",
   "metadata": {},
   "source": [
    "The two most important principal components are:\n",
    "\n",
    "    1st principal component: 1.784\n",
    "    2nd principal component: 1.022"
   ]
  },
  {
   "cell_type": "markdown",
   "id": "a43f6d35",
   "metadata": {},
   "source": [
    "### 4. Select only 8 features using PCA."
   ]
  },
  {
   "cell_type": "code",
   "execution_count": 37,
   "id": "781c02b2",
   "metadata": {},
   "outputs": [],
   "source": [
    "pca = PCA(n_components=4)\n",
    "principalComponents = pca.fit_transform(df2)\n",
    "principalDf = pd.DataFrame(data = principalComponents , columns = ['f1', 'f2', 'f3', 'f4'])#,'f5', 'f6', 'f7', 'f8'])"
   ]
  },
  {
   "cell_type": "code",
   "execution_count": 38,
   "id": "c3cf9e2e",
   "metadata": {},
   "outputs": [
    {
     "data": {
      "text/html": [
       "<div>\n",
       "<style scoped>\n",
       "    .dataframe tbody tr th:only-of-type {\n",
       "        vertical-align: middle;\n",
       "    }\n",
       "\n",
       "    .dataframe tbody tr th {\n",
       "        vertical-align: top;\n",
       "    }\n",
       "\n",
       "    .dataframe thead th {\n",
       "        text-align: right;\n",
       "    }\n",
       "</style>\n",
       "<table border=\"1\" class=\"dataframe\">\n",
       "  <thead>\n",
       "    <tr style=\"text-align: right;\">\n",
       "      <th></th>\n",
       "      <th>f1</th>\n",
       "      <th>f2</th>\n",
       "      <th>f3</th>\n",
       "      <th>f4</th>\n",
       "    </tr>\n",
       "  </thead>\n",
       "  <tbody>\n",
       "    <tr>\n",
       "      <th>0</th>\n",
       "      <td>0.249441</td>\n",
       "      <td>-0.143029</td>\n",
       "      <td>-0.594329</td>\n",
       "      <td>-0.130107</td>\n",
       "    </tr>\n",
       "    <tr>\n",
       "      <th>1</th>\n",
       "      <td>1.471974</td>\n",
       "      <td>-0.989695</td>\n",
       "      <td>-0.274810</td>\n",
       "      <td>0.415281</td>\n",
       "    </tr>\n",
       "    <tr>\n",
       "      <th>2</th>\n",
       "      <td>-1.535701</td>\n",
       "      <td>1.591778</td>\n",
       "      <td>0.007494</td>\n",
       "      <td>0.633270</td>\n",
       "    </tr>\n",
       "    <tr>\n",
       "      <th>3</th>\n",
       "      <td>-2.231502</td>\n",
       "      <td>1.230710</td>\n",
       "      <td>0.240012</td>\n",
       "      <td>-0.224949</td>\n",
       "    </tr>\n",
       "    <tr>\n",
       "      <th>4</th>\n",
       "      <td>-0.463541</td>\n",
       "      <td>0.358055</td>\n",
       "      <td>0.144672</td>\n",
       "      <td>0.430587</td>\n",
       "    </tr>\n",
       "  </tbody>\n",
       "</table>\n",
       "</div>"
      ],
      "text/plain": [
       "         f1        f2        f3        f4\n",
       "0  0.249441 -0.143029 -0.594329 -0.130107\n",
       "1  1.471974 -0.989695 -0.274810  0.415281\n",
       "2 -1.535701  1.591778  0.007494  0.633270\n",
       "3 -2.231502  1.230710  0.240012 -0.224949\n",
       "4 -0.463541  0.358055  0.144672  0.430587"
      ]
     },
     "execution_count": 38,
     "metadata": {},
     "output_type": "execute_result"
    }
   ],
   "source": [
    "principalDf.head(5)"
   ]
  },
  {
   "cell_type": "markdown",
   "id": "66198892",
   "metadata": {},
   "source": [
    "##### In df2 we have only 4 Features so we can creat 8 PCA features for data we need to again create new df4"
   ]
  },
  {
   "cell_type": "code",
   "execution_count": 39,
   "id": "5ecbaeb7",
   "metadata": {},
   "outputs": [
    {
     "data": {
      "text/plain": [
       "User_ID                           int64\n",
       "Product_ID                       object\n",
       "Gender                           object\n",
       "Age                              object\n",
       "Occupation                        int64\n",
       "City_Category                    object\n",
       "Stay_In_Current_City_Years       object\n",
       "Marital_Status                    int64\n",
       "Product_Category_1                int64\n",
       "Product_Category_2              float64\n",
       "Product_Category_3              float64\n",
       "Purchase                          int64\n",
       "GenderEC                          int64\n",
       "City_CategoryEC                   int64\n",
       "Stay_In_Current_City_YearsEC    float64\n",
       "dtype: object"
      ]
     },
     "execution_count": 39,
     "metadata": {},
     "output_type": "execute_result"
    }
   ],
   "source": [
    "df.dtypes"
   ]
  },
  {
   "cell_type": "code",
   "execution_count": 49,
   "id": "19a8c4f8",
   "metadata": {},
   "outputs": [],
   "source": [
    "df4=df[['User_ID','Marital_Status','Product_Category_1','Product_Category_2','Product_Category_3','Purchase',\n",
    "        'GenderEC','City_CategoryEC']]"
   ]
  },
  {
   "cell_type": "code",
   "execution_count": 50,
   "id": "a1b67930",
   "metadata": {},
   "outputs": [
    {
     "data": {
      "text/plain": [
       "User_ID               0\n",
       "Marital_Status        0\n",
       "Product_Category_1    0\n",
       "Product_Category_2    0\n",
       "Product_Category_3    0\n",
       "Purchase              0\n",
       "GenderEC              0\n",
       "City_CategoryEC       0\n",
       "dtype: int64"
      ]
     },
     "execution_count": 50,
     "metadata": {},
     "output_type": "execute_result"
    }
   ],
   "source": [
    "df4.isnull().sum()"
   ]
  },
  {
   "cell_type": "markdown",
   "id": "04dcdaed",
   "metadata": {},
   "source": [
    "To avoid this <span style='color:red'>Input contains NaN, infinity or a value too large for dtype('float64')</span>\n",
    "\n",
    "we need change these types by using \"astype\""
   ]
  },
  {
   "cell_type": "code",
   "execution_count": 51,
   "id": "3a5c0896",
   "metadata": {},
   "outputs": [],
   "source": [
    "int16 = df4[['User_ID','Marital_Status', 'Product_Category_1', 'Purchase','GenderEC','City_CategoryEC']].astype('int16')\n",
    "float16  = df4[['Product_Category_2','Product_Category_3']].astype('float16')\n",
    "df5 = pd.concat([int16, float16], axis=1, join=\"inner\")\n"
   ]
  },
  {
   "cell_type": "code",
   "execution_count": 54,
   "id": "d19727ab",
   "metadata": {},
   "outputs": [],
   "source": [
    "pca = PCA(n_components=8)\n",
    "principalComponents = pca.fit_transform(df5)\n",
    "principalDf = pd.DataFrame(data = principalComponents , columns = ['pcaf1', 'pcaf2', 'pcaf3', 'pcaf4','pcaf5', 'pcaf6', 'pcaf7', 'pcaf8'])"
   ]
  },
  {
   "cell_type": "code",
   "execution_count": 55,
   "id": "e9fe9fa8",
   "metadata": {},
   "outputs": [
    {
     "data": {
      "text/html": [
       "<div>\n",
       "<style scoped>\n",
       "    .dataframe tbody tr th:only-of-type {\n",
       "        vertical-align: middle;\n",
       "    }\n",
       "\n",
       "    .dataframe tbody tr th {\n",
       "        vertical-align: top;\n",
       "    }\n",
       "\n",
       "    .dataframe thead th {\n",
       "        text-align: right;\n",
       "    }\n",
       "</style>\n",
       "<table border=\"1\" class=\"dataframe\">\n",
       "  <thead>\n",
       "    <tr style=\"text-align: right;\">\n",
       "      <th></th>\n",
       "      <th>pcaf1</th>\n",
       "      <th>pcaf2</th>\n",
       "      <th>pcaf3</th>\n",
       "      <th>pcaf4</th>\n",
       "      <th>pcaf5</th>\n",
       "      <th>pcaf6</th>\n",
       "      <th>pcaf7</th>\n",
       "      <th>pcaf8</th>\n",
       "    </tr>\n",
       "  </thead>\n",
       "  <tbody>\n",
       "    <tr>\n",
       "      <th>0</th>\n",
       "      <td>-899.520996</td>\n",
       "      <td>3026.157471</td>\n",
       "      <td>-1.820007</td>\n",
       "      <td>-1.934095</td>\n",
       "      <td>-0.584676</td>\n",
       "      <td>1.009256</td>\n",
       "      <td>-0.311765</td>\n",
       "      <td>0.802906</td>\n",
       "    </tr>\n",
       "    <tr>\n",
       "      <th>1</th>\n",
       "      <td>5930.448242</td>\n",
       "      <td>3038.755127</td>\n",
       "      <td>-3.540114</td>\n",
       "      <td>-1.055221</td>\n",
       "      <td>-1.475279</td>\n",
       "      <td>1.069857</td>\n",
       "      <td>-0.306865</td>\n",
       "      <td>0.840977</td>\n",
       "    </tr>\n",
       "    <tr>\n",
       "      <th>2</th>\n",
       "      <td>-7851.609375</td>\n",
       "      <td>3013.403809</td>\n",
       "      <td>1.079108</td>\n",
       "      <td>4.646508</td>\n",
       "      <td>-0.456464</td>\n",
       "      <td>0.957356</td>\n",
       "      <td>-0.333993</td>\n",
       "      <td>0.742595</td>\n",
       "    </tr>\n",
       "    <tr>\n",
       "      <th>3</th>\n",
       "      <td>-8212.377930</td>\n",
       "      <td>3012.739990</td>\n",
       "      <td>5.058981</td>\n",
       "      <td>2.074001</td>\n",
       "      <td>0.975189</td>\n",
       "      <td>0.958060</td>\n",
       "      <td>-0.335186</td>\n",
       "      <td>0.739164</td>\n",
       "    </tr>\n",
       "    <tr>\n",
       "      <th>4</th>\n",
       "      <td>-1300.538696</td>\n",
       "      <td>3024.453857</td>\n",
       "      <td>0.685952</td>\n",
       "      <td>2.266858</td>\n",
       "      <td>-0.512597</td>\n",
       "      <td>-0.977613</td>\n",
       "      <td>-0.450478</td>\n",
       "      <td>-0.223618</td>\n",
       "    </tr>\n",
       "  </tbody>\n",
       "</table>\n",
       "</div>"
      ],
      "text/plain": [
       "         pcaf1        pcaf2     pcaf3     pcaf4     pcaf5     pcaf6     pcaf7  \\\n",
       "0  -899.520996  3026.157471 -1.820007 -1.934095 -0.584676  1.009256 -0.311765   \n",
       "1  5930.448242  3038.755127 -3.540114 -1.055221 -1.475279  1.069857 -0.306865   \n",
       "2 -7851.609375  3013.403809  1.079108  4.646508 -0.456464  0.957356 -0.333993   \n",
       "3 -8212.377930  3012.739990  5.058981  2.074001  0.975189  0.958060 -0.335186   \n",
       "4 -1300.538696  3024.453857  0.685952  2.266858 -0.512597 -0.977613 -0.450478   \n",
       "\n",
       "      pcaf8  \n",
       "0  0.802906  \n",
       "1  0.840977  \n",
       "2  0.742595  \n",
       "3  0.739164  \n",
       "4 -0.223618  "
      ]
     },
     "execution_count": 55,
     "metadata": {},
     "output_type": "execute_result"
    }
   ],
   "source": [
    "principalDf.head(5)"
   ]
  }
 ],
 "metadata": {
  "kernelspec": {
   "display_name": "Python 3",
   "language": "python",
   "name": "python3"
  },
  "language_info": {
   "codemirror_mode": {
    "name": "ipython",
    "version": 3
   },
   "file_extension": ".py",
   "mimetype": "text/x-python",
   "name": "python",
   "nbconvert_exporter": "python",
   "pygments_lexer": "ipython3",
   "version": "3.8.8"
  }
 },
 "nbformat": 4,
 "nbformat_minor": 5
}
